{
 "cells": [
  {
   "cell_type": "code",
   "execution_count": 1,
   "id": "e65ac493",
   "metadata": {},
   "outputs": [],
   "source": [
    "from shapely.geometry import Point\n",
    "import pandas as pd\n",
    "import geopandas as gpd\n",
    "import matplotlib.pyplot as plt\n",
    "import folium\n",
    "from folium.plugins import MarkerCluster\n",
    "from folium.plugins import FastMarkerCluster"
   ]
  },
  {
   "cell_type": "code",
   "execution_count": 2,
   "id": "2750a991",
   "metadata": {},
   "outputs": [],
   "source": [
    "# pip install openpyxl"
   ]
  },
  {
   "cell_type": "code",
   "execution_count": null,
   "id": "861ed221",
   "metadata": {},
   "outputs": [],
   "source": []
  },
  {
   "cell_type": "code",
   "execution_count": null,
   "id": "1666fe1c",
   "metadata": {},
   "outputs": [],
   "source": []
  },
  {
   "cell_type": "code",
   "execution_count": 3,
   "id": "1451c733",
   "metadata": {},
   "outputs": [
    {
     "name": "stdout",
     "output_type": "stream",
     "text": [
      "(2255, 12)\n"
     ]
    },
    {
     "data": {
      "text/html": [
       "<div>\n",
       "<style scoped>\n",
       "    .dataframe tbody tr th:only-of-type {\n",
       "        vertical-align: middle;\n",
       "    }\n",
       "\n",
       "    .dataframe tbody tr th {\n",
       "        vertical-align: top;\n",
       "    }\n",
       "\n",
       "    .dataframe thead th {\n",
       "        text-align: right;\n",
       "    }\n",
       "</style>\n",
       "<table border=\"1\" class=\"dataframe\">\n",
       "  <thead>\n",
       "    <tr style=\"text-align: right;\">\n",
       "      <th></th>\n",
       "      <th>Site</th>\n",
       "      <th>Site_distance</th>\n",
       "      <th>Community</th>\n",
       "      <th>Latitude</th>\n",
       "      <th>Longitude</th>\n",
       "      <th>Easting</th>\n",
       "      <th>Northing</th>\n",
       "      <th>Zone</th>\n",
       "      <th>Datum</th>\n",
       "      <th>Location name</th>\n",
       "      <th>Tenure</th>\n",
       "      <th>Date sampled</th>\n",
       "    </tr>\n",
       "  </thead>\n",
       "  <tbody>\n",
       "    <tr>\n",
       "      <th>0</th>\n",
       "      <td>CYP_001</td>\n",
       "      <td>CYP_001_000</td>\n",
       "      <td>Cypress pine</td>\n",
       "      <td>-32.314901</td>\n",
       "      <td>145.820500</td>\n",
       "      <td>6424048</td>\n",
       "      <td>388969</td>\n",
       "      <td>55</td>\n",
       "      <td>MGA94</td>\n",
       "      <td>Bedooba State Conservation Area</td>\n",
       "      <td>National Park</td>\n",
       "      <td>2013-09-11</td>\n",
       "    </tr>\n",
       "    <tr>\n",
       "      <th>1</th>\n",
       "      <td>CYP_001</td>\n",
       "      <td>CYP_001_050</td>\n",
       "      <td>Cypress pine</td>\n",
       "      <td>-32.314476</td>\n",
       "      <td>145.820346</td>\n",
       "      <td>6424095</td>\n",
       "      <td>388954</td>\n",
       "      <td>55</td>\n",
       "      <td>MGA94</td>\n",
       "      <td>Bedooba State Conservation Area</td>\n",
       "      <td>National Park</td>\n",
       "      <td>2013-09-11</td>\n",
       "    </tr>\n",
       "    <tr>\n",
       "      <th>2</th>\n",
       "      <td>CYP_001</td>\n",
       "      <td>CYP_001_100</td>\n",
       "      <td>Cypress pine</td>\n",
       "      <td>-32.314051</td>\n",
       "      <td>145.820182</td>\n",
       "      <td>6424142</td>\n",
       "      <td>388938</td>\n",
       "      <td>55</td>\n",
       "      <td>MGA94</td>\n",
       "      <td>Bedooba State Conservation Area</td>\n",
       "      <td>National Park</td>\n",
       "      <td>2013-09-11</td>\n",
       "    </tr>\n",
       "  </tbody>\n",
       "</table>\n",
       "</div>"
      ],
      "text/plain": [
       "      Site Site_distance     Community   Latitude   Longitude  Easting  \\\n",
       "0  CYP_001   CYP_001_000  Cypress pine -32.314901  145.820500  6424048   \n",
       "1  CYP_001   CYP_001_050  Cypress pine -32.314476  145.820346  6424095   \n",
       "2  CYP_001   CYP_001_100  Cypress pine -32.314051  145.820182  6424142   \n",
       "\n",
       "   Northing  Zone  Datum                    Location name         Tenure  \\\n",
       "0    388969    55  MGA94  Bedooba State Conservation Area  National Park   \n",
       "1    388954    55  MGA94  Bedooba State Conservation Area  National Park   \n",
       "2    388938    55  MGA94  Bedooba State Conservation Area  National Park   \n",
       "\n",
       "  Date sampled  \n",
       "0   2013-09-11  \n",
       "1   2013-09-11  \n",
       "2   2013-09-11  "
      ]
     },
     "execution_count": 3,
     "metadata": {},
     "output_type": "execute_result"
    }
   ],
   "source": [
    "nswmap = pd.read_excel('../data/nsw-site-location-and-details.xlsx')\n",
    "print(nswmap.shape)\n",
    "nswmap.head(3)"
   ]
  },
  {
   "cell_type": "code",
   "execution_count": 4,
   "id": "6e027a7f",
   "metadata": {},
   "outputs": [
    {
     "name": "stdout",
     "output_type": "stream",
     "text": [
      "(6019, 7)\n"
     ]
    },
    {
     "data": {
      "text/html": [
       "<div>\n",
       "<style scoped>\n",
       "    .dataframe tbody tr th:only-of-type {\n",
       "        vertical-align: middle;\n",
       "    }\n",
       "\n",
       "    .dataframe tbody tr th {\n",
       "        vertical-align: top;\n",
       "    }\n",
       "\n",
       "    .dataframe thead th {\n",
       "        text-align: right;\n",
       "    }\n",
       "</style>\n",
       "<table border=\"1\" class=\"dataframe\">\n",
       "  <thead>\n",
       "    <tr style=\"text-align: right;\">\n",
       "      <th></th>\n",
       "      <th>Community</th>\n",
       "      <th>Site</th>\n",
       "      <th>Site.1</th>\n",
       "      <th>Scale</th>\n",
       "      <th>Animal</th>\n",
       "      <th>Attribute</th>\n",
       "      <th>Counts</th>\n",
       "    </tr>\n",
       "  </thead>\n",
       "  <tbody>\n",
       "    <tr>\n",
       "      <th>0</th>\n",
       "      <td>Black box</td>\n",
       "      <td>BLA_001_000</td>\n",
       "      <td>BLA_001</td>\n",
       "      <td>0.25</td>\n",
       "      <td>Kangaroo</td>\n",
       "      <td>dung</td>\n",
       "      <td>1</td>\n",
       "    </tr>\n",
       "    <tr>\n",
       "      <th>1</th>\n",
       "      <td>Black box</td>\n",
       "      <td>BLA_001_000</td>\n",
       "      <td>BLA_001</td>\n",
       "      <td>25.00</td>\n",
       "      <td>Cow</td>\n",
       "      <td>dung</td>\n",
       "      <td>28</td>\n",
       "    </tr>\n",
       "    <tr>\n",
       "      <th>2</th>\n",
       "      <td>Black box</td>\n",
       "      <td>BLA_001_000</td>\n",
       "      <td>BLA_001</td>\n",
       "      <td>25.00</td>\n",
       "      <td>Kangaroo</td>\n",
       "      <td>dung</td>\n",
       "      <td>10</td>\n",
       "    </tr>\n",
       "  </tbody>\n",
       "</table>\n",
       "</div>"
      ],
      "text/plain": [
       "   Community         Site   Site.1  Scale    Animal Attribute  Counts\n",
       "0  Black box  BLA_001_000  BLA_001   0.25  Kangaroo      dung       1\n",
       "1  Black box  BLA_001_000  BLA_001  25.00       Cow      dung      28\n",
       "2  Black box  BLA_001_000  BLA_001  25.00  Kangaroo      dung      10"
      ]
     },
     "execution_count": 4,
     "metadata": {},
     "output_type": "execute_result"
    }
   ],
   "source": [
    "dung = pd.read_excel('../data/nsw-assessment-of-grazing-intensity.xlsx', sheet_name='animal_dung')\n",
    "print(dung.shape)\n",
    "dung.head(3)"
   ]
  },
  {
   "cell_type": "code",
   "execution_count": 5,
   "id": "a4ba2668",
   "metadata": {},
   "outputs": [
    {
     "data": {
      "text/html": [
       "<div>\n",
       "<style scoped>\n",
       "    .dataframe tbody tr th:only-of-type {\n",
       "        vertical-align: middle;\n",
       "    }\n",
       "\n",
       "    .dataframe tbody tr th {\n",
       "        vertical-align: top;\n",
       "    }\n",
       "\n",
       "    .dataframe thead th {\n",
       "        text-align: right;\n",
       "    }\n",
       "</style>\n",
       "<table border=\"1\" class=\"dataframe\">\n",
       "  <thead>\n",
       "    <tr style=\"text-align: right;\">\n",
       "      <th></th>\n",
       "      <th>Community</th>\n",
       "      <th>Site</th>\n",
       "      <th>Site.1</th>\n",
       "      <th>Scale</th>\n",
       "      <th>Animal</th>\n",
       "      <th>Attribute</th>\n",
       "      <th>Counts</th>\n",
       "      <th>Latitude</th>\n",
       "      <th>Longitude</th>\n",
       "      <th>Location name</th>\n",
       "    </tr>\n",
       "  </thead>\n",
       "  <tbody>\n",
       "    <tr>\n",
       "      <th>0</th>\n",
       "      <td>Black box</td>\n",
       "      <td>BLA_001_000</td>\n",
       "      <td>BLA_001</td>\n",
       "      <td>0.25</td>\n",
       "      <td>Kangaroo</td>\n",
       "      <td>dung</td>\n",
       "      <td>1</td>\n",
       "      <td>-34.711825</td>\n",
       "      <td>146.211807</td>\n",
       "      <td>Benandra</td>\n",
       "    </tr>\n",
       "    <tr>\n",
       "      <th>1</th>\n",
       "      <td>Black box</td>\n",
       "      <td>BLA_001_000</td>\n",
       "      <td>BLA_001</td>\n",
       "      <td>0.25</td>\n",
       "      <td>Kangaroo</td>\n",
       "      <td>dung</td>\n",
       "      <td>1</td>\n",
       "      <td>-34.711436</td>\n",
       "      <td>146.211581</td>\n",
       "      <td>Benandra</td>\n",
       "    </tr>\n",
       "    <tr>\n",
       "      <th>2</th>\n",
       "      <td>Black box</td>\n",
       "      <td>BLA_001_000</td>\n",
       "      <td>BLA_001</td>\n",
       "      <td>0.25</td>\n",
       "      <td>Kangaroo</td>\n",
       "      <td>dung</td>\n",
       "      <td>1</td>\n",
       "      <td>-34.711011</td>\n",
       "      <td>146.211443</td>\n",
       "      <td>Benandra</td>\n",
       "    </tr>\n",
       "    <tr>\n",
       "      <th>3</th>\n",
       "      <td>Black box</td>\n",
       "      <td>BLA_001_000</td>\n",
       "      <td>BLA_001</td>\n",
       "      <td>0.25</td>\n",
       "      <td>Kangaroo</td>\n",
       "      <td>dung</td>\n",
       "      <td>1</td>\n",
       "      <td>-34.710595</td>\n",
       "      <td>146.211250</td>\n",
       "      <td>Benandra</td>\n",
       "    </tr>\n",
       "    <tr>\n",
       "      <th>4</th>\n",
       "      <td>Black box</td>\n",
       "      <td>BLA_001_000</td>\n",
       "      <td>BLA_001</td>\n",
       "      <td>0.25</td>\n",
       "      <td>Kangaroo</td>\n",
       "      <td>dung</td>\n",
       "      <td>1</td>\n",
       "      <td>-34.710161</td>\n",
       "      <td>146.211091</td>\n",
       "      <td>Benandra</td>\n",
       "    </tr>\n",
       "  </tbody>\n",
       "</table>\n",
       "</div>"
      ],
      "text/plain": [
       "   Community         Site   Site.1  Scale    Animal Attribute  Counts  \\\n",
       "0  Black box  BLA_001_000  BLA_001   0.25  Kangaroo      dung       1   \n",
       "1  Black box  BLA_001_000  BLA_001   0.25  Kangaroo      dung       1   \n",
       "2  Black box  BLA_001_000  BLA_001   0.25  Kangaroo      dung       1   \n",
       "3  Black box  BLA_001_000  BLA_001   0.25  Kangaroo      dung       1   \n",
       "4  Black box  BLA_001_000  BLA_001   0.25  Kangaroo      dung       1   \n",
       "\n",
       "    Latitude   Longitude Location name  \n",
       "0 -34.711825  146.211807      Benandra  \n",
       "1 -34.711436  146.211581      Benandra  \n",
       "2 -34.711011  146.211443      Benandra  \n",
       "3 -34.710595  146.211250      Benandra  \n",
       "4 -34.710161  146.211091      Benandra  "
      ]
     },
     "execution_count": 5,
     "metadata": {},
     "output_type": "execute_result"
    }
   ],
   "source": [
    "dungmap = pd.merge(left=dung,\n",
    "                   right=nswmap[['Community', 'Latitude', 'Longitude', 'Location name']], \n",
    "                   how='left',\n",
    "                   on='Site')\n",
    "\n",
    "dungmap.head()"
   ]
  },
  {
   "cell_type": "code",
   "execution_count": 6,
   "id": "00056d09",
   "metadata": {},
   "outputs": [],
   "source": [
    "# dung1 = dung[dung['Attribute'].notna()]\n",
    "\n",
    "# # keep only dung counts\n",
    "# dung1 = dung[dung['Attribute'].str.contains('dung')]\n",
    "\n",
    "# dung1.head()"
   ]
  },
  {
   "cell_type": "code",
   "execution_count": null,
   "id": "bbbbb7ba",
   "metadata": {},
   "outputs": [],
   "source": []
  },
  {
   "cell_type": "code",
   "execution_count": null,
   "id": "6cf33f8c",
   "metadata": {},
   "outputs": [],
   "source": []
  },
  {
   "cell_type": "code",
   "execution_count": null,
   "id": "e80ca99e",
   "metadata": {},
   "outputs": [],
   "source": []
  },
  {
   "cell_type": "code",
   "execution_count": 7,
   "id": "a6d7b894",
   "metadata": {},
   "outputs": [
    {
     "name": "stdout",
     "output_type": "stream",
     "text": [
      "<class 'pandas.core.frame.DataFrame'>\n",
      "RangeIndex: 4527395 entries, 0 to 4527394\n",
      "Data columns (total 10 columns):\n",
      " #   Column         Dtype  \n",
      "---  ------         -----  \n",
      " 0   Community      object \n",
      " 1   Site           object \n",
      " 2   Site.1         object \n",
      " 3   Scale          float64\n",
      " 4   Animal         object \n",
      " 5   Attribute      object \n",
      " 6   Counts         int64  \n",
      " 7   Latitude       float64\n",
      " 8   Longitude      float64\n",
      " 9   Location name  object \n",
      "dtypes: float64(3), int64(1), object(6)\n",
      "memory usage: 345.4+ MB\n"
     ]
    }
   ],
   "source": [
    "dungmap.info()"
   ]
  },
  {
   "cell_type": "code",
   "execution_count": 8,
   "id": "f1ce174a",
   "metadata": {},
   "outputs": [
    {
     "data": {
      "text/html": [
       "<div>\n",
       "<style scoped>\n",
       "    .dataframe tbody tr th:only-of-type {\n",
       "        vertical-align: middle;\n",
       "    }\n",
       "\n",
       "    .dataframe tbody tr th {\n",
       "        vertical-align: top;\n",
       "    }\n",
       "\n",
       "    .dataframe thead th {\n",
       "        text-align: right;\n",
       "    }\n",
       "</style>\n",
       "<table border=\"1\" class=\"dataframe\">\n",
       "  <thead>\n",
       "    <tr style=\"text-align: right;\">\n",
       "      <th></th>\n",
       "      <th>Community</th>\n",
       "      <th>Site</th>\n",
       "      <th>Site.1</th>\n",
       "      <th>Scale</th>\n",
       "      <th>Animal</th>\n",
       "      <th>Attribute</th>\n",
       "      <th>Counts</th>\n",
       "      <th>Latitude</th>\n",
       "      <th>Longitude</th>\n",
       "      <th>Location name</th>\n",
       "      <th>geometry</th>\n",
       "    </tr>\n",
       "  </thead>\n",
       "  <tbody>\n",
       "    <tr>\n",
       "      <th>0</th>\n",
       "      <td>Black box</td>\n",
       "      <td>BLA_001_000</td>\n",
       "      <td>BLA_001</td>\n",
       "      <td>0.25</td>\n",
       "      <td>Kangaroo</td>\n",
       "      <td>dung</td>\n",
       "      <td>1</td>\n",
       "      <td>-34.711825</td>\n",
       "      <td>146.211807</td>\n",
       "      <td>Benandra</td>\n",
       "      <td>POINT (146.211806657459 -34.711824788022)</td>\n",
       "    </tr>\n",
       "    <tr>\n",
       "      <th>1</th>\n",
       "      <td>Black box</td>\n",
       "      <td>BLA_001_000</td>\n",
       "      <td>BLA_001</td>\n",
       "      <td>0.25</td>\n",
       "      <td>Kangaroo</td>\n",
       "      <td>dung</td>\n",
       "      <td>1</td>\n",
       "      <td>-34.711436</td>\n",
       "      <td>146.211581</td>\n",
       "      <td>Benandra</td>\n",
       "      <td>POINT (146.211581027011 -34.7114355727612)</td>\n",
       "    </tr>\n",
       "    <tr>\n",
       "      <th>2</th>\n",
       "      <td>Black box</td>\n",
       "      <td>BLA_001_000</td>\n",
       "      <td>BLA_001</td>\n",
       "      <td>0.25</td>\n",
       "      <td>Kangaroo</td>\n",
       "      <td>dung</td>\n",
       "      <td>1</td>\n",
       "      <td>-34.711011</td>\n",
       "      <td>146.211443</td>\n",
       "      <td>Benandra</td>\n",
       "      <td>POINT (146.211443096319 -34.7110108544367)</td>\n",
       "    </tr>\n",
       "  </tbody>\n",
       "</table>\n",
       "</div>"
      ],
      "text/plain": [
       "   Community         Site   Site.1  Scale    Animal Attribute  Counts  \\\n",
       "0  Black box  BLA_001_000  BLA_001   0.25  Kangaroo      dung       1   \n",
       "1  Black box  BLA_001_000  BLA_001   0.25  Kangaroo      dung       1   \n",
       "2  Black box  BLA_001_000  BLA_001   0.25  Kangaroo      dung       1   \n",
       "\n",
       "    Latitude   Longitude Location name  \\\n",
       "0 -34.711825  146.211807      Benandra   \n",
       "1 -34.711436  146.211581      Benandra   \n",
       "2 -34.711011  146.211443      Benandra   \n",
       "\n",
       "                                     geometry  \n",
       "0   POINT (146.211806657459 -34.711824788022)  \n",
       "1  POINT (146.211581027011 -34.7114355727612)  \n",
       "2  POINT (146.211443096319 -34.7110108544367)  "
      ]
     },
     "execution_count": 8,
     "metadata": {},
     "output_type": "execute_result"
    }
   ],
   "source": [
    "dungmap['geometry'] = dungmap.apply(lambda x: Point((x.Longitude, \n",
    "                                                         x.Latitude)), \n",
    "                                        axis=1)\n",
    "dungmap.head(3)"
   ]
  },
  {
   "cell_type": "code",
   "execution_count": 9,
   "id": "452d9720",
   "metadata": {},
   "outputs": [],
   "source": [
    "dungmap = gpd.GeoDataFrame(dungmap, \n",
    "                           crs = 'EPSG:4326', \n",
    "                           geometry = dungmap['geometry'])"
   ]
  },
  {
   "cell_type": "code",
   "execution_count": 10,
   "id": "cc9a92be",
   "metadata": {},
   "outputs": [
    {
     "data": {
      "text/plain": [
       "<Geographic 2D CRS: EPSG:4326>\n",
       "Name: WGS 84\n",
       "Axis Info [ellipsoidal]:\n",
       "- Lat[north]: Geodetic latitude (degree)\n",
       "- Lon[east]: Geodetic longitude (degree)\n",
       "Area of Use:\n",
       "- name: World.\n",
       "- bounds: (-180.0, -90.0, 180.0, 90.0)\n",
       "Datum: World Geodetic System 1984 ensemble\n",
       "- Ellipsoid: WGS 84\n",
       "- Prime Meridian: Greenwich"
      ]
     },
     "execution_count": 10,
     "metadata": {},
     "output_type": "execute_result"
    }
   ],
   "source": [
    "dungmap.crs"
   ]
  },
  {
   "cell_type": "code",
   "execution_count": 11,
   "id": "b5b09455",
   "metadata": {},
   "outputs": [
    {
     "data": {
      "text/plain": [
       "geopandas.geodataframe.GeoDataFrame"
      ]
     },
     "execution_count": 11,
     "metadata": {},
     "output_type": "execute_result"
    }
   ],
   "source": [
    "type(dungmap)"
   ]
  },
  {
   "cell_type": "code",
   "execution_count": 12,
   "id": "abc33038",
   "metadata": {},
   "outputs": [
    {
     "data": {
      "text/plain": [
       "<Axes: >"
      ]
     },
     "execution_count": 12,
     "metadata": {},
     "output_type": "execute_result"
    },
    {
     "data": {
      "image/png": "[encoded data removed]",
      "text/plain": [
       "<Figure size 640x480 with 1 Axes>"
      ]
     },
     "metadata": {},
     "output_type": "display_data"
    }
   ],
   "source": [
    "dungmap.plot()"
   ]
  },
  {
   "cell_type": "code",
   "execution_count": 13,
   "id": "ab5691c5",
   "metadata": {},
   "outputs": [
    {
     "data": {
      "text/plain": [
       "<Axes: >"
      ]
     },
     "execution_count": 13,
     "metadata": {},
     "output_type": "execute_result"
    },
    {
     "data": {
      "image/png": "[encoded data removed]",
      "text/plain": [
       "<Figure size 640x480 with 1 Axes>"
      ]
     },
     "metadata": {},
     "output_type": "display_data"
    }
   ],
   "source": [
    "geodata = gpd.read_file('../data/STE_2021_AUST_GDA2020.shp')\n",
    "nsw = geodata[geodata['STE_NAME21']== 'New South Wales']\n",
    "nsw.plot()"
   ]
  },
  {
   "cell_type": "code",
   "execution_count": 14,
   "id": "52840302",
   "metadata": {},
   "outputs": [],
   "source": [
    "nsw.crs = dungmap.crs"
   ]
  },
  {
   "cell_type": "code",
   "execution_count": 15,
   "id": "09c7a2b0",
   "metadata": {},
   "outputs": [
    {
     "data": {
      "text/plain": [
       "<Geographic 2D CRS: EPSG:4326>\n",
       "Name: WGS 84\n",
       "Axis Info [ellipsoidal]:\n",
       "- Lat[north]: Geodetic latitude (degree)\n",
       "- Lon[east]: Geodetic longitude (degree)\n",
       "Area of Use:\n",
       "- name: World.\n",
       "- bounds: (-180.0, -90.0, 180.0, 90.0)\n",
       "Datum: World Geodetic System 1984 ensemble\n",
       "- Ellipsoid: WGS 84\n",
       "- Prime Meridian: Greenwich"
      ]
     },
     "execution_count": 15,
     "metadata": {},
     "output_type": "execute_result"
    }
   ],
   "source": [
    "nsw.crs"
   ]
  },
  {
   "cell_type": "code",
   "execution_count": 16,
   "id": "16cad780",
   "metadata": {},
   "outputs": [
    {
     "data": {
      "text/plain": [
       "<Axes: >"
      ]
     },
     "execution_count": 16,
     "metadata": {},
     "output_type": "execute_result"
    },
    {
     "data": {
      "image/png": "[encoded data removed]",
      "text/plain": [
       "<Figure size 640x480 with 1 Axes>"
      ]
     },
     "metadata": {},
     "output_type": "display_data"
    }
   ],
   "source": [
    "nsw.plot()"
   ]
  },
  {
   "cell_type": "code",
   "execution_count": 17,
   "id": "759fd1fb",
   "metadata": {},
   "outputs": [
    {
     "data": {
      "text/html": [
       "<div>\n",
       "<style scoped>\n",
       "    .dataframe tbody tr th:only-of-type {\n",
       "        vertical-align: middle;\n",
       "    }\n",
       "\n",
       "    .dataframe tbody tr th {\n",
       "        vertical-align: top;\n",
       "    }\n",
       "\n",
       "    .dataframe thead th {\n",
       "        text-align: right;\n",
       "    }\n",
       "</style>\n",
       "<table border=\"1\" class=\"dataframe\">\n",
       "  <thead>\n",
       "    <tr style=\"text-align: right;\">\n",
       "      <th></th>\n",
       "      <th>Community</th>\n",
       "      <th>Site</th>\n",
       "      <th>Site.1</th>\n",
       "      <th>Scale</th>\n",
       "      <th>Animal</th>\n",
       "      <th>Attribute</th>\n",
       "      <th>Counts</th>\n",
       "      <th>Latitude</th>\n",
       "      <th>Longitude</th>\n",
       "      <th>Location name</th>\n",
       "      <th>geometry</th>\n",
       "    </tr>\n",
       "  </thead>\n",
       "  <tbody>\n",
       "    <tr>\n",
       "      <th>0</th>\n",
       "      <td>Black box</td>\n",
       "      <td>BLA_001_000</td>\n",
       "      <td>BLA_001</td>\n",
       "      <td>0.25</td>\n",
       "      <td>Kangaroo</td>\n",
       "      <td>dung</td>\n",
       "      <td>1</td>\n",
       "      <td>-34.711825</td>\n",
       "      <td>146.211807</td>\n",
       "      <td>Benandra</td>\n",
       "      <td>POINT (146.21181 -34.71182)</td>\n",
       "    </tr>\n",
       "    <tr>\n",
       "      <th>1</th>\n",
       "      <td>Black box</td>\n",
       "      <td>BLA_001_000</td>\n",
       "      <td>BLA_001</td>\n",
       "      <td>0.25</td>\n",
       "      <td>Kangaroo</td>\n",
       "      <td>dung</td>\n",
       "      <td>1</td>\n",
       "      <td>-34.711436</td>\n",
       "      <td>146.211581</td>\n",
       "      <td>Benandra</td>\n",
       "      <td>POINT (146.21158 -34.71144)</td>\n",
       "    </tr>\n",
       "    <tr>\n",
       "      <th>2</th>\n",
       "      <td>Black box</td>\n",
       "      <td>BLA_001_000</td>\n",
       "      <td>BLA_001</td>\n",
       "      <td>0.25</td>\n",
       "      <td>Kangaroo</td>\n",
       "      <td>dung</td>\n",
       "      <td>1</td>\n",
       "      <td>-34.711011</td>\n",
       "      <td>146.211443</td>\n",
       "      <td>Benandra</td>\n",
       "      <td>POINT (146.21144 -34.71101)</td>\n",
       "    </tr>\n",
       "    <tr>\n",
       "      <th>3</th>\n",
       "      <td>Black box</td>\n",
       "      <td>BLA_001_000</td>\n",
       "      <td>BLA_001</td>\n",
       "      <td>0.25</td>\n",
       "      <td>Kangaroo</td>\n",
       "      <td>dung</td>\n",
       "      <td>1</td>\n",
       "      <td>-34.710595</td>\n",
       "      <td>146.211250</td>\n",
       "      <td>Benandra</td>\n",
       "      <td>POINT (146.21125 -34.71059)</td>\n",
       "    </tr>\n",
       "    <tr>\n",
       "      <th>4</th>\n",
       "      <td>Black box</td>\n",
       "      <td>BLA_001_000</td>\n",
       "      <td>BLA_001</td>\n",
       "      <td>0.25</td>\n",
       "      <td>Kangaroo</td>\n",
       "      <td>dung</td>\n",
       "      <td>1</td>\n",
       "      <td>-34.710161</td>\n",
       "      <td>146.211091</td>\n",
       "      <td>Benandra</td>\n",
       "      <td>POINT (146.21109 -34.71016)</td>\n",
       "    </tr>\n",
       "  </tbody>\n",
       "</table>\n",
       "</div>"
      ],
      "text/plain": [
       "   Community         Site   Site.1  Scale    Animal Attribute  Counts  \\\n",
       "0  Black box  BLA_001_000  BLA_001   0.25  Kangaroo      dung       1   \n",
       "1  Black box  BLA_001_000  BLA_001   0.25  Kangaroo      dung       1   \n",
       "2  Black box  BLA_001_000  BLA_001   0.25  Kangaroo      dung       1   \n",
       "3  Black box  BLA_001_000  BLA_001   0.25  Kangaroo      dung       1   \n",
       "4  Black box  BLA_001_000  BLA_001   0.25  Kangaroo      dung       1   \n",
       "\n",
       "    Latitude   Longitude Location name                     geometry  \n",
       "0 -34.711825  146.211807      Benandra  POINT (146.21181 -34.71182)  \n",
       "1 -34.711436  146.211581      Benandra  POINT (146.21158 -34.71144)  \n",
       "2 -34.711011  146.211443      Benandra  POINT (146.21144 -34.71101)  \n",
       "3 -34.710595  146.211250      Benandra  POINT (146.21125 -34.71059)  \n",
       "4 -34.710161  146.211091      Benandra  POINT (146.21109 -34.71016)  "
      ]
     },
     "execution_count": 17,
     "metadata": {},
     "output_type": "execute_result"
    }
   ],
   "source": [
    "dungmap.head()"
   ]
  },
  {
   "cell_type": "code",
   "execution_count": 18,
   "id": "0be41455",
   "metadata": {},
   "outputs": [
    {
     "data": {
      "text/plain": [
       "geopandas.geodataframe.GeoDataFrame"
      ]
     },
     "execution_count": 18,
     "metadata": {},
     "output_type": "execute_result"
    }
   ],
   "source": [
    "type(nsw)"
   ]
  },
  {
   "cell_type": "code",
   "execution_count": 19,
   "id": "8c13514b",
   "metadata": {},
   "outputs": [],
   "source": [
    "nsw_map = gpd.sjoin(nsw, dungmap, predicate = 'within')"
   ]
  },
  {
   "cell_type": "code",
   "execution_count": 20,
   "id": "fea44f59",
   "metadata": {},
   "outputs": [
    {
     "data": {
      "text/plain": [
       "(1, 9)"
      ]
     },
     "execution_count": 20,
     "metadata": {},
     "output_type": "execute_result"
    }
   ],
   "source": [
    "border = nsw.loc[nsw['STE_NAME21'] == 'New South Wales']\n",
    "border.shape"
   ]
  },
  {
   "cell_type": "code",
   "execution_count": 21,
   "id": "acf842d4",
   "metadata": {},
   "outputs": [
    {
     "data": {
      "image/png": "[encoded data removed]",
      "text/plain": [
       "<Figure size 800x1000 with 1 Axes>"
      ]
     },
     "metadata": {},
     "output_type": "display_data"
    }
   ],
   "source": [
    "ax = border.plot(figsize = (8, 10), color = 'lightgreen')\n",
    "dungmap.plot( ax = ax, column = 'Community');\n",
    "plt.show();"
   ]
  },
  {
   "cell_type": "code",
   "execution_count": null,
   "id": "500e93b7",
   "metadata": {},
   "outputs": [],
   "source": []
  },
  {
   "cell_type": "code",
   "execution_count": 22,
   "id": "d161db59",
   "metadata": {},
   "outputs": [
    {
     "name": "stderr",
     "output_type": "stream",
     "text": [
      "C:\\Users\\HP\\AppData\\Local\\Temp\\ipykernel_12576\\1165773.py:1: UserWarning: Geometry is in a geographic CRS. Results from 'centroid' are likely incorrect. Use 'GeoSeries.to_crs()' to re-project geometries to a projected CRS before this operation.\n",
      "\n",
      "  border.geometry.centroid\n"
     ]
    },
    {
     "data": {
      "text/plain": [
       "0    POINT (147.00820 -32.16562)\n",
       "dtype: geometry"
      ]
     },
     "execution_count": 22,
     "metadata": {},
     "output_type": "execute_result"
    }
   ],
   "source": [
    "border.geometry.centroid"
   ]
  },
  {
   "cell_type": "code",
   "execution_count": 23,
   "id": "3dbf03a7",
   "metadata": {},
   "outputs": [
    {
     "name": "stderr",
     "output_type": "stream",
     "text": [
      "C:\\Users\\HP\\AppData\\Local\\Temp\\ipykernel_12576\\4157547962.py:1: UserWarning: Geometry is in a geographic CRS. Results from 'centroid' are likely incorrect. Use 'GeoSeries.to_crs()' to re-project geometries to a projected CRS before this operation.\n",
      "\n",
      "  center = border.geometry.centroid[0]\n"
     ]
    }
   ],
   "source": [
    "center = border.geometry.centroid[0]"
   ]
  },
  {
   "cell_type": "code",
   "execution_count": 24,
   "id": "3a186d68",
   "metadata": {},
   "outputs": [
    {
     "name": "stdout",
     "output_type": "stream",
     "text": [
      "POINT (147.00819583947575 -32.16561978542047)\n"
     ]
    }
   ],
   "source": [
    "print(center)"
   ]
  },
  {
   "cell_type": "code",
   "execution_count": null,
   "id": "17feb117",
   "metadata": {},
   "outputs": [],
   "source": []
  },
  {
   "cell_type": "code",
   "execution_count": null,
   "id": "c4d7f950",
   "metadata": {},
   "outputs": [],
   "source": []
  },
  {
   "cell_type": "markdown",
   "id": "8e424f8d",
   "metadata": {},
   "source": [
    "## Folium requires a location point as an array with latitude first\n",
    "but shapely Points have longitude first"
   ]
  },
  {
   "cell_type": "code",
   "execution_count": 25,
   "id": "6803e2f9",
   "metadata": {},
   "outputs": [
    {
     "data": {
      "text/plain": [
       "-32.16561978542047"
      ]
     },
     "execution_count": 25,
     "metadata": {},
     "output_type": "execute_result"
    }
   ],
   "source": [
    "center.y"
   ]
  },
  {
   "cell_type": "code",
   "execution_count": 26,
   "id": "8d79c493",
   "metadata": {},
   "outputs": [
    {
     "name": "stdout",
     "output_type": "stream",
     "text": [
      "[-32.16561978542047, 147.00819583947575]\n"
     ]
    }
   ],
   "source": [
    "# reverse the order when constructing the array for folium location\n",
    "area_center = [center.y, center.x]\n",
    "\n",
    "# check the order of area_center, the location for our folium map\n",
    "print(area_center)"
   ]
  },
  {
   "cell_type": "markdown",
   "id": "77ca1f55",
   "metadata": {},
   "source": [
    "To create a folium map just call the folium Map() constructor\n",
    "location is the only argument required by the constructor\n",
    "Set area_center as the location of the folium map.\n",
    "zoom_start is an optional argument\n",
    "A setting of 12 should get us nice and close"
   ]
  },
  {
   "cell_type": "code",
   "execution_count": 27,
   "id": "dada41b0",
   "metadata": {},
   "outputs": [
    {
     "data": {
      "text/html": [
       "<div style=\"width:100%;\"><div style=\"position:relative;width:100%;height:0;padding-bottom:60%;\"><span style=\"color:#565656\">Make this Notebook Trusted to load map: File -> Trust Notebook</span><iframe srcdoc=\"&lt;!DOCTYPE html&gt;\n",
       "&lt;html&gt;\n",
       "&lt;head&gt;\n",
       "    \n",
       "    &lt;meta http-equiv=&quot;content-type&quot; content=&quot;text/html; charset=UTF-8&quot; /&gt;\n",
       "    \n",
       "        &lt;script&gt;\n",
       "            L_NO_TOUCH = false;\n",
       "            L_DISABLE_3D = false;\n",
       "        &lt;/script&gt;\n",
       "    \n",
       "    &lt;style&gt;html, body {width: 100%;height: 100%;margin: 0;padding: 0;}&lt;/style&gt;\n",
       "    &lt;style&gt;#map {position:absolute;top:0;bottom:0;right:0;left:0;}&lt;/style&gt;\n",
       "    &lt;script src=&quot;https://cdn.jsdelivr.net/npm/leaflet@1.9.3/dist/leaflet.js&quot;&gt;&lt;/script&gt;\n",
       "    &lt;script src=&quot;https://code.jquery.com/jquery-1.12.4.min.js&quot;&gt;&lt;/script&gt;\n",
       "    &lt;script src=&quot;https://cdn.jsdelivr.net/npm/bootstrap@5.2.2/dist/js/bootstrap.bundle.min.js&quot;&gt;&lt;/script&gt;\n",
       "    &lt;script src=&quot;https://cdnjs.cloudflare.com/ajax/libs/Leaflet.awesome-markers/2.0.2/leaflet.awesome-markers.js&quot;&gt;&lt;/script&gt;\n",
       "    &lt;link rel=&quot;stylesheet&quot; href=&quot;https://cdn.jsdelivr.net/npm/leaflet@1.9.3/dist/leaflet.css&quot;/&gt;\n",
       "    &lt;link rel=&quot;stylesheet&quot; href=&quot;https://cdn.jsdelivr.net/npm/bootstrap@5.2.2/dist/css/bootstrap.min.css&quot;/&gt;\n",
       "    &lt;link rel=&quot;stylesheet&quot; href=&quot;https://netdna.bootstrapcdn.com/bootstrap/3.0.0/css/bootstrap.min.css&quot;/&gt;\n",
       "    &lt;link rel=&quot;stylesheet&quot; href=&quot;https://cdn.jsdelivr.net/npm/@fortawesome/fontawesome-free@6.2.0/css/all.min.css&quot;/&gt;\n",
       "    &lt;link rel=&quot;stylesheet&quot; href=&quot;https://cdnjs.cloudflare.com/ajax/libs/Leaflet.awesome-markers/2.0.2/leaflet.awesome-markers.css&quot;/&gt;\n",
       "    &lt;link rel=&quot;stylesheet&quot; href=&quot;https://cdn.jsdelivr.net/gh/python-visualization/folium/folium/templates/leaflet.awesome.rotate.min.css&quot;/&gt;\n",
       "    \n",
       "            &lt;meta name=&quot;viewport&quot; content=&quot;width=device-width,\n",
       "                initial-scale=1.0, maximum-scale=1.0, user-scalable=no&quot; /&gt;\n",
       "            &lt;style&gt;\n",
       "                #map_3f49daef337ea44c016c9696fca3c9f3 {\n",
       "                    position: relative;\n",
       "                    width: 100.0%;\n",
       "                    height: 100.0%;\n",
       "                    left: 0.0%;\n",
       "                    top: 0.0%;\n",
       "                }\n",
       "                .leaflet-container { font-size: 1rem; }\n",
       "            &lt;/style&gt;\n",
       "        \n",
       "&lt;/head&gt;\n",
       "&lt;body&gt;\n",
       "    \n",
       "    \n",
       "            &lt;div class=&quot;folium-map&quot; id=&quot;map_3f49daef337ea44c016c9696fca3c9f3&quot; &gt;&lt;/div&gt;\n",
       "        \n",
       "&lt;/body&gt;\n",
       "&lt;script&gt;\n",
       "    \n",
       "    \n",
       "            var map_3f49daef337ea44c016c9696fca3c9f3 = L.map(\n",
       "                &quot;map_3f49daef337ea44c016c9696fca3c9f3&quot;,\n",
       "                {\n",
       "                    center: [-32.16561978542047, 147.00819583947575],\n",
       "                    crs: L.CRS.EPSG3857,\n",
       "                    zoom: 10,\n",
       "                    zoomControl: true,\n",
       "                    preferCanvas: false,\n",
       "                }\n",
       "            );\n",
       "\n",
       "            \n",
       "\n",
       "        \n",
       "    \n",
       "            var tile_layer_a59515da4db36e4438a58842b4b1189e = L.tileLayer(\n",
       "                &quot;https://{s}.tile.openstreetmap.org/{z}/{x}/{y}.png&quot;,\n",
       "                {&quot;attribution&quot;: &quot;Data by \\u0026copy; \\u003ca target=\\&quot;_blank\\&quot; href=\\&quot;http://openstreetmap.org\\&quot;\\u003eOpenStreetMap\\u003c/a\\u003e, under \\u003ca target=\\&quot;_blank\\&quot; href=\\&quot;http://www.openstreetmap.org/copyright\\&quot;\\u003eODbL\\u003c/a\\u003e.&quot;, &quot;detectRetina&quot;: false, &quot;maxNativeZoom&quot;: 18, &quot;maxZoom&quot;: 18, &quot;minZoom&quot;: 0, &quot;noWrap&quot;: false, &quot;opacity&quot;: 1, &quot;subdomains&quot;: &quot;abc&quot;, &quot;tms&quot;: false}\n",
       "            ).addTo(map_3f49daef337ea44c016c9696fca3c9f3);\n",
       "        \n",
       "&lt;/script&gt;\n",
       "&lt;/html&gt;\" style=\"position:absolute;width:100%;height:100%;left:0;top:0;border:none !important;\" allowfullscreen webkitallowfullscreen mozallowfullscreen></iframe></div></div>"
      ],
      "text/plain": [
       "<folium.folium.Map at 0x2224a9fd930>"
      ]
     },
     "execution_count": 27,
     "metadata": {},
     "output_type": "execute_result"
    }
   ],
   "source": [
    "#create our map of NSW and show it\n",
    "map_nsw = folium.Map(location =  area_center, zoom_start = 10)\n",
    "map_nsw"
   ]
  },
  {
   "cell_type": "markdown",
   "id": "4b7c70de",
   "metadata": {},
   "source": [
    "#### Next, let's add our dung points\n"
   ]
  },
  {
   "cell_type": "code",
   "execution_count": null,
   "id": "c2ad7e0d",
   "metadata": {},
   "outputs": [],
   "source": [
    "dungmap.head(1)"
   ]
  },
  {
   "cell_type": "code",
   "execution_count": null,
   "id": "2e5a16a5",
   "metadata": {},
   "outputs": [],
   "source": [
    "#draw our zip code area: 37207\n",
    "map_nsw = folium.Map(location =  area_center, zoom_start = 12)\n",
    "\n",
    "folium.GeoJson(border).add_to(map_nsw)\n",
    "\n",
    "#iterate through stops_in_37207 to create locations and markers \n",
    "#for each bus stop\n",
    "#remember for Folium locations, lat is listed first!!\n",
    "\n",
    "for row_index, row_values in dungmap.iterrows():\n",
    "    loc = [row_values['Latitude'], row_values['Longitude']]\n",
    "    pop = str(row_values['Animal', 'Attribute', 'Counts'])\n",
    "    icon=folium.Icon(color=\"blue\",icon=\"poo\", prefix='fa')\n",
    "    \n",
    "    marker = folium.Marker(\n",
    "        location = loc, \n",
    "        popup = pop, \n",
    "        icon = icon) \n",
    "\n",
    "    marker.add_to(map_nsw)\n",
    "# map_37207.save('../maps/map37207.html')\n",
    "\n",
    "#display our map\n",
    "map_nsw"
   ]
  },
  {
   "cell_type": "code",
   "execution_count": null,
   "id": "1b4fe7eb",
   "metadata": {},
   "outputs": [],
   "source": []
  },
  {
   "cell_type": "code",
   "execution_count": null,
   "id": "3908b342",
   "metadata": {},
   "outputs": [],
   "source": []
  },
  {
   "cell_type": "code",
   "execution_count": null,
   "id": "74a80239",
   "metadata": {},
   "outputs": [],
   "source": []
  },
  {
   "cell_type": "code",
   "execution_count": null,
   "id": "0d9ddb57",
   "metadata": {},
   "outputs": [],
   "source": []
  },
  {
   "cell_type": "code",
   "execution_count": null,
   "id": "5dffb359",
   "metadata": {},
   "outputs": [],
   "source": []
  }
 ],
 "metadata": {
  "kernelspec": {
   "display_name": "Python [conda env:geospatial]",
   "language": "python",
   "name": "conda-env-geospatial-py"
  },
  "language_info": {
   "codemirror_mode": {
    "name": "ipython",
    "version": 3
   },
   "file_extension": ".py",
   "mimetype": "text/x-python",
   "name": "python",
   "nbconvert_exporter": "python",
   "pygments_lexer": "ipython3",
   "version": "3.10.12"
  }
 },
 "nbformat": 4,
 "nbformat_minor": 5
}
