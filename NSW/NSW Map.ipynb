{
 "cells": [
  {
   "cell_type": "code",
   "execution_count": 1,
   "id": "ecdf9a9b",
   "metadata": {},
   "outputs": [],
   "source": [
    "from shapely.geometry import Point\n",
    "import pandas as pd\n",
    "import geopandas as gpd\n",
    "import matplotlib.pyplot as plt\n",
    "import folium\n",
    "from folium.plugins import MarkerCluster\n",
    "from folium.plugins import FastMarkerCluster"
   ]
  },
  {
   "cell_type": "code",
   "execution_count": 7,
   "id": "eef0a001",
   "metadata": {},
   "outputs": [
    {
     "name": "stdout",
     "output_type": "stream",
     "text": [
      "Collecting openpyxl\n",
      "  Downloading openpyxl-3.1.2-py2.py3-none-any.whl (249 kB)\n",
      "     ---------------------------------------- 0.0/250.0 kB ? eta -:--:--\n",
      "     - -------------------------------------- 10.2/250.0 kB ? eta -:--:--\n",
      "     - -------------------------------------- 10.2/250.0 kB ? eta -:--:--\n",
      "     ---- -------------------------------- 30.7/250.0 kB 220.2 kB/s eta 0:00:01\n",
      "     ------ ------------------------------ 41.0/250.0 kB 245.8 kB/s eta 0:00:01\n",
      "     ---------------- ------------------- 112.6/250.0 kB 547.6 kB/s eta 0:00:01\n",
      "     -------------------------------------  245.8/250.0 kB 1.1 MB/s eta 0:00:01\n",
      "     -------------------------------------- 250.0/250.0 kB 1.0 MB/s eta 0:00:00\n",
      "Collecting et-xmlfile (from openpyxl)\n",
      "  Downloading et_xmlfile-1.1.0-py3-none-any.whl (4.7 kB)\n",
      "Installing collected packages: et-xmlfile, openpyxl\n",
      "Successfully installed et-xmlfile-1.1.0 openpyxl-3.1.2\n",
      "Note: you may need to restart the kernel to use updated packages.\n"
     ]
    }
   ],
   "source": [
    "# pip install openpyxl"
   ]
  },
  {
   "cell_type": "code",
   "execution_count": 8,
   "id": "09f3191b",
   "metadata": {},
   "outputs": [
    {
     "name": "stdout",
     "output_type": "stream",
     "text": [
      "(2255, 12)\n"
     ]
    },
    {
     "data": {
      "text/html": [
       "<div>\n",
       "<style scoped>\n",
       "    .dataframe tbody tr th:only-of-type {\n",
       "        vertical-align: middle;\n",
       "    }\n",
       "\n",
       "    .dataframe tbody tr th {\n",
       "        vertical-align: top;\n",
       "    }\n",
       "\n",
       "    .dataframe thead th {\n",
       "        text-align: right;\n",
       "    }\n",
       "</style>\n",
       "<table border=\"1\" class=\"dataframe\">\n",
       "  <thead>\n",
       "    <tr style=\"text-align: right;\">\n",
       "      <th></th>\n",
       "      <th>Site2</th>\n",
       "      <th>Site_distance</th>\n",
       "      <th>Community</th>\n",
       "      <th>Latitude</th>\n",
       "      <th>Longitude</th>\n",
       "      <th>Easting</th>\n",
       "      <th>Northing</th>\n",
       "      <th>Zone</th>\n",
       "      <th>Datum</th>\n",
       "      <th>Location name</th>\n",
       "      <th>Tenure</th>\n",
       "      <th>Date sampled</th>\n",
       "    </tr>\n",
       "  </thead>\n",
       "  <tbody>\n",
       "    <tr>\n",
       "      <th>0</th>\n",
       "      <td>CYP_001</td>\n",
       "      <td>CYP_001_000</td>\n",
       "      <td>Cypress pine</td>\n",
       "      <td>-32.314901</td>\n",
       "      <td>145.820500</td>\n",
       "      <td>6424048</td>\n",
       "      <td>388969</td>\n",
       "      <td>55</td>\n",
       "      <td>MGA94</td>\n",
       "      <td>Bedooba State Conservation Area</td>\n",
       "      <td>National Park</td>\n",
       "      <td>2013-09-11</td>\n",
       "    </tr>\n",
       "    <tr>\n",
       "      <th>1</th>\n",
       "      <td>CYP_001</td>\n",
       "      <td>CYP_001_050</td>\n",
       "      <td>Cypress pine</td>\n",
       "      <td>-32.314476</td>\n",
       "      <td>145.820346</td>\n",
       "      <td>6424095</td>\n",
       "      <td>388954</td>\n",
       "      <td>55</td>\n",
       "      <td>MGA94</td>\n",
       "      <td>Bedooba State Conservation Area</td>\n",
       "      <td>National Park</td>\n",
       "      <td>2013-09-11</td>\n",
       "    </tr>\n",
       "    <tr>\n",
       "      <th>2</th>\n",
       "      <td>CYP_001</td>\n",
       "      <td>CYP_001_100</td>\n",
       "      <td>Cypress pine</td>\n",
       "      <td>-32.314051</td>\n",
       "      <td>145.820182</td>\n",
       "      <td>6424142</td>\n",
       "      <td>388938</td>\n",
       "      <td>55</td>\n",
       "      <td>MGA94</td>\n",
       "      <td>Bedooba State Conservation Area</td>\n",
       "      <td>National Park</td>\n",
       "      <td>2013-09-11</td>\n",
       "    </tr>\n",
       "  </tbody>\n",
       "</table>\n",
       "</div>"
      ],
      "text/plain": [
       "     Site2 Site_distance     Community   Latitude   Longitude  Easting  \\\n",
       "0  CYP_001   CYP_001_000  Cypress pine -32.314901  145.820500  6424048   \n",
       "1  CYP_001   CYP_001_050  Cypress pine -32.314476  145.820346  6424095   \n",
       "2  CYP_001   CYP_001_100  Cypress pine -32.314051  145.820182  6424142   \n",
       "\n",
       "   Northing  Zone  Datum                    Location name         Tenure  \\\n",
       "0    388969    55  MGA94  Bedooba State Conservation Area  National Park   \n",
       "1    388954    55  MGA94  Bedooba State Conservation Area  National Park   \n",
       "2    388938    55  MGA94  Bedooba State Conservation Area  National Park   \n",
       "\n",
       "  Date sampled  \n",
       "0   2013-09-11  \n",
       "1   2013-09-11  \n",
       "2   2013-09-11  "
      ]
     },
     "execution_count": 8,
     "metadata": {},
     "output_type": "execute_result"
    }
   ],
   "source": [
    "nswmap = pd.read_excel('../data/nsw-site-location-and-details.xlsx')\n",
    "print(nswmap.shape)\n",
    "nswmap.head(3)"
   ]
  },
  {
   "cell_type": "code",
   "execution_count": 9,
   "id": "3d1686a3",
   "metadata": {},
   "outputs": [
    {
     "name": "stdout",
     "output_type": "stream",
     "text": [
      "<class 'pandas.core.frame.DataFrame'>\n",
      "RangeIndex: 2255 entries, 0 to 2254\n",
      "Data columns (total 12 columns):\n",
      " #   Column         Non-Null Count  Dtype         \n",
      "---  ------         --------------  -----         \n",
      " 0   Site2          2255 non-null   object        \n",
      " 1   Site_distance  2255 non-null   object        \n",
      " 2   Community      2255 non-null   object        \n",
      " 3   Latitude       2255 non-null   float64       \n",
      " 4   Longitude      2255 non-null   float64       \n",
      " 5   Easting        2255 non-null   int64         \n",
      " 6   Northing       2255 non-null   int64         \n",
      " 7   Zone           2255 non-null   int64         \n",
      " 8   Datum          2255 non-null   object        \n",
      " 9   Location name  2255 non-null   object        \n",
      " 10  Tenure         2255 non-null   object        \n",
      " 11  Date sampled   2255 non-null   datetime64[ns]\n",
      "dtypes: datetime64[ns](1), float64(2), int64(3), object(6)\n",
      "memory usage: 211.5+ KB\n"
     ]
    }
   ],
   "source": [
    "nswmap.info()"
   ]
  },
  {
   "cell_type": "code",
   "execution_count": 10,
   "id": "19198391",
   "metadata": {},
   "outputs": [
    {
     "data": {
      "text/html": [
       "<div>\n",
       "<style scoped>\n",
       "    .dataframe tbody tr th:only-of-type {\n",
       "        vertical-align: middle;\n",
       "    }\n",
       "\n",
       "    .dataframe tbody tr th {\n",
       "        vertical-align: top;\n",
       "    }\n",
       "\n",
       "    .dataframe thead th {\n",
       "        text-align: right;\n",
       "    }\n",
       "</style>\n",
       "<table border=\"1\" class=\"dataframe\">\n",
       "  <thead>\n",
       "    <tr style=\"text-align: right;\">\n",
       "      <th></th>\n",
       "      <th>Site2</th>\n",
       "      <th>Site_distance</th>\n",
       "      <th>Community</th>\n",
       "      <th>Latitude</th>\n",
       "      <th>Longitude</th>\n",
       "      <th>Easting</th>\n",
       "      <th>Northing</th>\n",
       "      <th>Zone</th>\n",
       "      <th>Datum</th>\n",
       "      <th>Location name</th>\n",
       "      <th>Tenure</th>\n",
       "      <th>Date sampled</th>\n",
       "      <th>geometry</th>\n",
       "    </tr>\n",
       "  </thead>\n",
       "  <tbody>\n",
       "    <tr>\n",
       "      <th>0</th>\n",
       "      <td>CYP_001</td>\n",
       "      <td>CYP_001_000</td>\n",
       "      <td>Cypress pine</td>\n",
       "      <td>-32.314901</td>\n",
       "      <td>145.820500</td>\n",
       "      <td>6424048</td>\n",
       "      <td>388969</td>\n",
       "      <td>55</td>\n",
       "      <td>MGA94</td>\n",
       "      <td>Bedooba State Conservation Area</td>\n",
       "      <td>National Park</td>\n",
       "      <td>2013-09-11</td>\n",
       "      <td>POINT (145.820500115668 -32.3149014417796)</td>\n",
       "    </tr>\n",
       "    <tr>\n",
       "      <th>1</th>\n",
       "      <td>CYP_001</td>\n",
       "      <td>CYP_001_050</td>\n",
       "      <td>Cypress pine</td>\n",
       "      <td>-32.314476</td>\n",
       "      <td>145.820346</td>\n",
       "      <td>6424095</td>\n",
       "      <td>388954</td>\n",
       "      <td>55</td>\n",
       "      <td>MGA94</td>\n",
       "      <td>Bedooba State Conservation Area</td>\n",
       "      <td>National Park</td>\n",
       "      <td>2013-09-11</td>\n",
       "      <td>POINT (145.820346292351 -32.3144760386447)</td>\n",
       "    </tr>\n",
       "    <tr>\n",
       "      <th>2</th>\n",
       "      <td>CYP_001</td>\n",
       "      <td>CYP_001_100</td>\n",
       "      <td>Cypress pine</td>\n",
       "      <td>-32.314051</td>\n",
       "      <td>145.820182</td>\n",
       "      <td>6424142</td>\n",
       "      <td>388938</td>\n",
       "      <td>55</td>\n",
       "      <td>MGA94</td>\n",
       "      <td>Bedooba State Conservation Area</td>\n",
       "      <td>National Park</td>\n",
       "      <td>2013-09-11</td>\n",
       "      <td>POINT (145.820181849289 -32.3140505360327)</td>\n",
       "    </tr>\n",
       "  </tbody>\n",
       "</table>\n",
       "</div>"
      ],
      "text/plain": [
       "     Site2 Site_distance     Community   Latitude   Longitude  Easting  \\\n",
       "0  CYP_001   CYP_001_000  Cypress pine -32.314901  145.820500  6424048   \n",
       "1  CYP_001   CYP_001_050  Cypress pine -32.314476  145.820346  6424095   \n",
       "2  CYP_001   CYP_001_100  Cypress pine -32.314051  145.820182  6424142   \n",
       "\n",
       "   Northing  Zone  Datum                    Location name         Tenure  \\\n",
       "0    388969    55  MGA94  Bedooba State Conservation Area  National Park   \n",
       "1    388954    55  MGA94  Bedooba State Conservation Area  National Park   \n",
       "2    388938    55  MGA94  Bedooba State Conservation Area  National Park   \n",
       "\n",
       "  Date sampled                                    geometry  \n",
       "0   2013-09-11  POINT (145.820500115668 -32.3149014417796)  \n",
       "1   2013-09-11  POINT (145.820346292351 -32.3144760386447)  \n",
       "2   2013-09-11  POINT (145.820181849289 -32.3140505360327)  "
      ]
     },
     "execution_count": 10,
     "metadata": {},
     "output_type": "execute_result"
    }
   ],
   "source": [
    "nswmap['geometry'] = nswmap.apply(lambda x: Point((x.Longitude, \n",
    "                                                         x.Latitude)), \n",
    "                                        axis=1)\n",
    "nswmap.head(3)"
   ]
  },
  {
   "cell_type": "code",
   "execution_count": 11,
   "id": "1de03761",
   "metadata": {},
   "outputs": [],
   "source": [
    "nswmap = gpd.GeoDataFrame(nswmap, \n",
    "                           crs = 'EPSG:4326', \n",
    "                           geometry = nswmap['geometry'])"
   ]
  },
  {
   "cell_type": "code",
   "execution_count": 12,
   "id": "b5825b1b",
   "metadata": {},
   "outputs": [
    {
     "data": {
      "text/plain": [
       "<Geographic 2D CRS: EPSG:4326>\n",
       "Name: WGS 84\n",
       "Axis Info [ellipsoidal]:\n",
       "- Lat[north]: Geodetic latitude (degree)\n",
       "- Lon[east]: Geodetic longitude (degree)\n",
       "Area of Use:\n",
       "- name: World.\n",
       "- bounds: (-180.0, -90.0, 180.0, 90.0)\n",
       "Datum: World Geodetic System 1984 ensemble\n",
       "- Ellipsoid: WGS 84\n",
       "- Prime Meridian: Greenwich"
      ]
     },
     "execution_count": 12,
     "metadata": {},
     "output_type": "execute_result"
    }
   ],
   "source": [
    "nswmap.crs"
   ]
  },
  {
   "cell_type": "code",
   "execution_count": 13,
   "id": "d200ed8e",
   "metadata": {},
   "outputs": [
    {
     "data": {
      "text/plain": [
       "geopandas.geodataframe.GeoDataFrame"
      ]
     },
     "execution_count": 13,
     "metadata": {},
     "output_type": "execute_result"
    }
   ],
   "source": [
    "type(nswmap)"
   ]
  },
  {
   "cell_type": "code",
   "execution_count": 14,
   "id": "152a9287",
   "metadata": {},
   "outputs": [
    {
     "data": {
      "text/plain": [
       "<Axes: >"
      ]
     },
     "execution_count": 14,
     "metadata": {},
     "output_type": "execute_result"
    },
    {
     "data": {
      "image/png": "[encoded data removed]",
      "text/plain": [
       "<Figure size 640x480 with 1 Axes>"
      ]
     },
     "metadata": {},
     "output_type": "display_data"
    }
   ],
   "source": [
    "nswmap.plot()"
   ]
  },
  {
   "cell_type": "code",
   "execution_count": null,
   "id": "0f8a7dc5",
   "metadata": {},
   "outputs": [],
   "source": []
  }
 ],
 "metadata": {
  "kernelspec": {
   "display_name": "Python [conda env:geospatial]",
   "language": "python",
   "name": "conda-env-geospatial-py"
  },
  "language_info": {
   "codemirror_mode": {
    "name": "ipython",
    "version": 3
   },
   "file_extension": ".py",
   "mimetype": "text/x-python",
   "name": "python",
   "nbconvert_exporter": "python",
   "pygments_lexer": "ipython3",
   "version": "3.10.12"
  }
 },
 "nbformat": 4,
 "nbformat_minor": 5
}
