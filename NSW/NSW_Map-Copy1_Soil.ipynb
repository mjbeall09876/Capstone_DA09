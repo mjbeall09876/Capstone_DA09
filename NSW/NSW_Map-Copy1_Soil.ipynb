{
 "cells": [
  {
   "cell_type": "code",
   "execution_count": 1,
   "id": "e65ac493",
   "metadata": {},
   "outputs": [],
   "source": [
    "from shapely.geometry import Point\n",
    "import pandas as pd\n",
    "import geopandas as gpd\n",
    "import matplotlib.pyplot as plt\n",
    "import folium\n",
    "from folium.plugins import MarkerCluster\n",
    "from folium.plugins import FastMarkerCluster"
   ]
  },
  {
   "cell_type": "code",
   "execution_count": 2,
   "id": "2750a991",
   "metadata": {},
   "outputs": [],
   "source": [
    "# pip install openpyxl"
   ]
  },
  {
   "cell_type": "code",
   "execution_count": 3,
   "id": "1451c733",
   "metadata": {},
   "outputs": [
    {
     "name": "stdout",
     "output_type": "stream",
     "text": [
      "(2255, 12)\n"
     ]
    },
    {
     "data": {
      "text/html": [
       "<div>\n",
       "<style scoped>\n",
       "    .dataframe tbody tr th:only-of-type {\n",
       "        vertical-align: middle;\n",
       "    }\n",
       "\n",
       "    .dataframe tbody tr th {\n",
       "        vertical-align: top;\n",
       "    }\n",
       "\n",
       "    .dataframe thead th {\n",
       "        text-align: right;\n",
       "    }\n",
       "</style>\n",
       "<table border=\"1\" class=\"dataframe\">\n",
       "  <thead>\n",
       "    <tr style=\"text-align: right;\">\n",
       "      <th></th>\n",
       "      <th>Site2</th>\n",
       "      <th>Site_distance</th>\n",
       "      <th>Community</th>\n",
       "      <th>Latitude</th>\n",
       "      <th>Longitude</th>\n",
       "      <th>Easting</th>\n",
       "      <th>Northing</th>\n",
       "      <th>Zone</th>\n",
       "      <th>Datum</th>\n",
       "      <th>Location name</th>\n",
       "      <th>Tenure</th>\n",
       "      <th>Date sampled</th>\n",
       "    </tr>\n",
       "  </thead>\n",
       "  <tbody>\n",
       "    <tr>\n",
       "      <th>0</th>\n",
       "      <td>CYP_001</td>\n",
       "      <td>CYP_001_000</td>\n",
       "      <td>Cypress pine</td>\n",
       "      <td>-32.314901</td>\n",
       "      <td>145.820500</td>\n",
       "      <td>6424048</td>\n",
       "      <td>388969</td>\n",
       "      <td>55</td>\n",
       "      <td>MGA94</td>\n",
       "      <td>Bedooba State Conservation Area</td>\n",
       "      <td>National Park</td>\n",
       "      <td>2013-09-11</td>\n",
       "    </tr>\n",
       "    <tr>\n",
       "      <th>1</th>\n",
       "      <td>CYP_001</td>\n",
       "      <td>CYP_001_050</td>\n",
       "      <td>Cypress pine</td>\n",
       "      <td>-32.314476</td>\n",
       "      <td>145.820346</td>\n",
       "      <td>6424095</td>\n",
       "      <td>388954</td>\n",
       "      <td>55</td>\n",
       "      <td>MGA94</td>\n",
       "      <td>Bedooba State Conservation Area</td>\n",
       "      <td>National Park</td>\n",
       "      <td>2013-09-11</td>\n",
       "    </tr>\n",
       "    <tr>\n",
       "      <th>2</th>\n",
       "      <td>CYP_001</td>\n",
       "      <td>CYP_001_100</td>\n",
       "      <td>Cypress pine</td>\n",
       "      <td>-32.314051</td>\n",
       "      <td>145.820182</td>\n",
       "      <td>6424142</td>\n",
       "      <td>388938</td>\n",
       "      <td>55</td>\n",
       "      <td>MGA94</td>\n",
       "      <td>Bedooba State Conservation Area</td>\n",
       "      <td>National Park</td>\n",
       "      <td>2013-09-11</td>\n",
       "    </tr>\n",
       "  </tbody>\n",
       "</table>\n",
       "</div>"
      ],
      "text/plain": [
       "     Site2 Site_distance     Community   Latitude   Longitude  Easting  \\\n",
       "0  CYP_001   CYP_001_000  Cypress pine -32.314901  145.820500  6424048   \n",
       "1  CYP_001   CYP_001_050  Cypress pine -32.314476  145.820346  6424095   \n",
       "2  CYP_001   CYP_001_100  Cypress pine -32.314051  145.820182  6424142   \n",
       "\n",
       "   Northing  Zone  Datum                    Location name         Tenure  \\\n",
       "0    388969    55  MGA94  Bedooba State Conservation Area  National Park   \n",
       "1    388954    55  MGA94  Bedooba State Conservation Area  National Park   \n",
       "2    388938    55  MGA94  Bedooba State Conservation Area  National Park   \n",
       "\n",
       "  Date sampled  \n",
       "0   2013-09-11  \n",
       "1   2013-09-11  \n",
       "2   2013-09-11  "
      ]
     },
     "execution_count": 3,
     "metadata": {},
     "output_type": "execute_result"
    }
   ],
   "source": [
    "nswmap = pd.read_excel('../data/nsw-site-location-and-details.xlsx')\n",
    "print(nswmap.shape)\n",
    "nswmap.head(3)"
   ]
  },
  {
   "cell_type": "code",
   "execution_count": 5,
   "id": "0a86cba6",
   "metadata": {},
   "outputs": [
    {
     "name": "stdout",
     "output_type": "stream",
     "text": [
      "(2255, 26)\n"
     ]
    },
    {
     "data": {
      "text/html": [
       "<div>\n",
       "<style scoped>\n",
       "    .dataframe tbody tr th:only-of-type {\n",
       "        vertical-align: middle;\n",
       "    }\n",
       "\n",
       "    .dataframe tbody tr th {\n",
       "        vertical-align: top;\n",
       "    }\n",
       "\n",
       "    .dataframe thead th {\n",
       "        text-align: right;\n",
       "    }\n",
       "</style>\n",
       "<table border=\"1\" class=\"dataframe\">\n",
       "  <thead>\n",
       "    <tr style=\"text-align: right;\">\n",
       "      <th></th>\n",
       "      <th>Community</th>\n",
       "      <th>SiteID</th>\n",
       "      <th>Site</th>\n",
       "      <th>Rough</th>\n",
       "      <th>Resist</th>\n",
       "      <th>Resist_adjust</th>\n",
       "      <th>Broke</th>\n",
       "      <th>Stab</th>\n",
       "      <th>Biocrust</th>\n",
       "      <th>Biocrust_code</th>\n",
       "      <th>...</th>\n",
       "      <th>Litter_code</th>\n",
       "      <th>Litt_depth</th>\n",
       "      <th>Litt_Origin</th>\n",
       "      <th>Litt_Incorp</th>\n",
       "      <th>Litt_Propn</th>\n",
       "      <th>Litt_Complex</th>\n",
       "      <th>Texture</th>\n",
       "      <th>Stability</th>\n",
       "      <th>Infiltration</th>\n",
       "      <th>Nutrients</th>\n",
       "    </tr>\n",
       "  </thead>\n",
       "  <tbody>\n",
       "    <tr>\n",
       "      <th>0</th>\n",
       "      <td>Cypress pine</td>\n",
       "      <td>CYP_001_000</td>\n",
       "      <td>CYP_001</td>\n",
       "      <td>1</td>\n",
       "      <td>4</td>\n",
       "      <td>1.0</td>\n",
       "      <td>2</td>\n",
       "      <td>4</td>\n",
       "      <td>5.0</td>\n",
       "      <td>2</td>\n",
       "      <td>...</td>\n",
       "      <td>1</td>\n",
       "      <td>3.0</td>\n",
       "      <td>1.5</td>\n",
       "      <td>1.0</td>\n",
       "      <td>95.0</td>\n",
       "      <td>1.5</td>\n",
       "      <td>2</td>\n",
       "      <td>54.107231</td>\n",
       "      <td>20.550760</td>\n",
       "      <td>15.116279</td>\n",
       "    </tr>\n",
       "    <tr>\n",
       "      <th>1</th>\n",
       "      <td>Cypress pine</td>\n",
       "      <td>CYP_001_050</td>\n",
       "      <td>CYP_001</td>\n",
       "      <td>1</td>\n",
       "      <td>4</td>\n",
       "      <td>1.0</td>\n",
       "      <td>4</td>\n",
       "      <td>4</td>\n",
       "      <td>20.0</td>\n",
       "      <td>3</td>\n",
       "      <td>...</td>\n",
       "      <td>2</td>\n",
       "      <td>4.0</td>\n",
       "      <td>1.5</td>\n",
       "      <td>1.0</td>\n",
       "      <td>30.0</td>\n",
       "      <td>3.0</td>\n",
       "      <td>2</td>\n",
       "      <td>63.944909</td>\n",
       "      <td>22.605836</td>\n",
       "      <td>20.930233</td>\n",
       "    </tr>\n",
       "    <tr>\n",
       "      <th>2</th>\n",
       "      <td>Cypress pine</td>\n",
       "      <td>CYP_001_100</td>\n",
       "      <td>CYP_001</td>\n",
       "      <td>1</td>\n",
       "      <td>4</td>\n",
       "      <td>1.0</td>\n",
       "      <td>4</td>\n",
       "      <td>4</td>\n",
       "      <td>10.0</td>\n",
       "      <td>2</td>\n",
       "      <td>...</td>\n",
       "      <td>2</td>\n",
       "      <td>0.5</td>\n",
       "      <td>1.5</td>\n",
       "      <td>1.0</td>\n",
       "      <td>100.0</td>\n",
       "      <td>3.0</td>\n",
       "      <td>2</td>\n",
       "      <td>63.944909</td>\n",
       "      <td>20.550760</td>\n",
       "      <td>16.279070</td>\n",
       "    </tr>\n",
       "  </tbody>\n",
       "</table>\n",
       "<p>3 rows × 26 columns</p>\n",
       "</div>"
      ],
      "text/plain": [
       "      Community       SiteID     Site  Rough  Resist  Resist_adjust  Broke  \\\n",
       "0  Cypress pine  CYP_001_000  CYP_001      1       4            1.0      2   \n",
       "1  Cypress pine  CYP_001_050  CYP_001      1       4            1.0      4   \n",
       "2  Cypress pine  CYP_001_100  CYP_001      1       4            1.0      4   \n",
       "\n",
       "   Stab  Biocrust  Biocrust_code  ...  Litter_code  Litt_depth  Litt_Origin  \\\n",
       "0     4       5.0              2  ...            1         3.0          1.5   \n",
       "1     4      20.0              3  ...            2         4.0          1.5   \n",
       "2     4      10.0              2  ...            2         0.5          1.5   \n",
       "\n",
       "   Litt_Incorp  Litt_Propn  Litt_Complex  Texture  Stability  Infiltration  \\\n",
       "0          1.0        95.0           1.5        2  54.107231     20.550760   \n",
       "1          1.0        30.0           3.0        2  63.944909     22.605836   \n",
       "2          1.0       100.0           3.0        2  63.944909     20.550760   \n",
       "\n",
       "   Nutrients  \n",
       "0  15.116279  \n",
       "1  20.930233  \n",
       "2  16.279070  \n",
       "\n",
       "[3 rows x 26 columns]"
      ]
     },
     "execution_count": 5,
     "metadata": {},
     "output_type": "execute_result"
    }
   ],
   "source": [
    "soil = pd.read_excel('../data/nsw-assessment-of-soil-health.xlsx')\n",
    "print(soil.shape)\n",
    "soil.head(3)"
   ]
  },
  {
   "cell_type": "code",
   "execution_count": null,
   "id": "a6d7b894",
   "metadata": {},
   "outputs": [],
   "source": [
    "nswmap.info()"
   ]
  },
  {
   "cell_type": "code",
   "execution_count": null,
   "id": "f1ce174a",
   "metadata": {},
   "outputs": [],
   "source": [
    "nswmap['geometry'] = nswmap.apply(lambda x: Point((x.Longitude, \n",
    "                                                         x.Latitude)), \n",
    "                                        axis=1)\n",
    "nswmap.head(3)"
   ]
  },
  {
   "cell_type": "code",
   "execution_count": null,
   "id": "452d9720",
   "metadata": {},
   "outputs": [],
   "source": [
    "nswmap = gpd.GeoDataFrame(nswmap, \n",
    "                           crs = 'EPSG:4326', \n",
    "                           geometry = nswmap['geometry'])"
   ]
  },
  {
   "cell_type": "code",
   "execution_count": null,
   "id": "cc9a92be",
   "metadata": {},
   "outputs": [],
   "source": [
    "nswmap.crs"
   ]
  },
  {
   "cell_type": "code",
   "execution_count": null,
   "id": "b5b09455",
   "metadata": {},
   "outputs": [],
   "source": [
    "type(nswmap)"
   ]
  },
  {
   "cell_type": "code",
   "execution_count": null,
   "id": "abc33038",
   "metadata": {},
   "outputs": [],
   "source": [
    "nswmap.plot()"
   ]
  },
  {
   "cell_type": "code",
   "execution_count": null,
   "id": "ab5691c5",
   "metadata": {},
   "outputs": [],
   "source": [
    "geodata = gpd.read_file('../data/STE_2021_AUST_GDA2020.shp')\n",
    "nsw = geodata[geodata['STE_NAME21']== 'New South Wales']\n",
    "nsw.plot()"
   ]
  },
  {
   "cell_type": "code",
   "execution_count": null,
   "id": "52840302",
   "metadata": {},
   "outputs": [],
   "source": [
    "nsw.crs = nswmap.crs"
   ]
  },
  {
   "cell_type": "code",
   "execution_count": null,
   "id": "09c7a2b0",
   "metadata": {},
   "outputs": [],
   "source": [
    "nsw.crs"
   ]
  },
  {
   "cell_type": "code",
   "execution_count": null,
   "id": "16cad780",
   "metadata": {},
   "outputs": [],
   "source": [
    "nsw.plot()"
   ]
  },
  {
   "cell_type": "code",
   "execution_count": null,
   "id": "759fd1fb",
   "metadata": {},
   "outputs": [],
   "source": [
    "nswmap.head()"
   ]
  },
  {
   "cell_type": "code",
   "execution_count": null,
   "id": "0be41455",
   "metadata": {},
   "outputs": [],
   "source": [
    "type(nsw)"
   ]
  },
  {
   "cell_type": "code",
   "execution_count": null,
   "id": "8c13514b",
   "metadata": {},
   "outputs": [],
   "source": [
    "nsw_map = gpd.sjoin(nsw, nswmap, predicate = 'within')"
   ]
  },
  {
   "cell_type": "code",
   "execution_count": null,
   "id": "fea44f59",
   "metadata": {},
   "outputs": [],
   "source": [
    "border = nsw.loc[nsw['STE_NAME21'] == 'New South Wales']\n",
    "border.shape"
   ]
  },
  {
   "cell_type": "code",
   "execution_count": null,
   "id": "acf842d4",
   "metadata": {},
   "outputs": [],
   "source": [
    "ax = border.plot(figsize = (8, 10), color = 'lightgreen')\n",
    "nswmap.plot( ax = ax, column = 'Community');\n",
    "plt.show();"
   ]
  },
  {
   "cell_type": "code",
   "execution_count": null,
   "id": "500e93b7",
   "metadata": {},
   "outputs": [],
   "source": []
  },
  {
   "cell_type": "code",
   "execution_count": null,
   "id": "d161db59",
   "metadata": {},
   "outputs": [],
   "source": [
    "border.geometry.centroid"
   ]
  },
  {
   "cell_type": "code",
   "execution_count": null,
   "id": "3dbf03a7",
   "metadata": {},
   "outputs": [],
   "source": [
    "center = border.geometry.centroid[0]"
   ]
  },
  {
   "cell_type": "code",
   "execution_count": null,
   "id": "3a186d68",
   "metadata": {},
   "outputs": [],
   "source": [
    "print(center)"
   ]
  },
  {
   "cell_type": "code",
   "execution_count": null,
   "id": "17feb117",
   "metadata": {},
   "outputs": [],
   "source": []
  },
  {
   "cell_type": "code",
   "execution_count": null,
   "id": "c4d7f950",
   "metadata": {},
   "outputs": [],
   "source": []
  },
  {
   "cell_type": "markdown",
   "id": "8e424f8d",
   "metadata": {},
   "source": [
    "## Folium requires a location point as an array with latitude first\n",
    "but shapely Points have longitude first"
   ]
  },
  {
   "cell_type": "code",
   "execution_count": null,
   "id": "6803e2f9",
   "metadata": {},
   "outputs": [],
   "source": [
    "center.y"
   ]
  },
  {
   "cell_type": "code",
   "execution_count": null,
   "id": "8d79c493",
   "metadata": {},
   "outputs": [],
   "source": [
    "# reverse the order when constructing the array for folium location\n",
    "area_center = [center.y, center.x]\n",
    "\n",
    "# check the order of area_center, the location for our folium map\n",
    "print(area_center)"
   ]
  },
  {
   "cell_type": "markdown",
   "id": "77ca1f55",
   "metadata": {},
   "source": [
    "To create a folium map just call the folium Map() constructor\n",
    "location is the only argument required by the constructor\n",
    "Set area_center as the location of the folium map.\n",
    "zoom_start is an optional argument\n",
    "A setting of 12 should get us nice and close"
   ]
  },
  {
   "cell_type": "code",
   "execution_count": null,
   "id": "dada41b0",
   "metadata": {},
   "outputs": [],
   "source": [
    "#create our map of NSW and show it\n",
    "map_nsw = folium.Map(location =  area_center, zoom_start = 10)\n",
    "map_nsw"
   ]
  },
  {
   "cell_type": "markdown",
   "id": "4b7c70de",
   "metadata": {},
   "source": [
    "#### Next, let's add our collections points\n"
   ]
  },
  {
   "cell_type": "code",
   "execution_count": null,
   "id": "c2ad7e0d",
   "metadata": {},
   "outputs": [],
   "source": [
    "nswmap.head(1)"
   ]
  },
  {
   "cell_type": "code",
   "execution_count": null,
   "id": "2e5a16a5",
   "metadata": {},
   "outputs": [],
   "source": [
    "#draw our zip code area: 37207\n",
    "map_nsw = folium.Map(location =  area_center, zoom_start = 12)\n",
    "\n",
    "folium.GeoJson(border).add_to(map_nsw)\n",
    "\n",
    "#iterate through stops_in_37207 to create locations and markers \n",
    "#for each bus stop\n",
    "#remember for Folium locations, lat is listed first!!\n",
    "\n",
    "for row_index, row_values in nswmap.iterrows():\n",
    "    loc = [row_values['Latitude'], row_values['Longitude']]\n",
    "    pop = str(row_values['Location name'])\n",
    "    icon=folium.Icon(color=\"blue\",icon=\"binoculars\", prefix='fa')\n",
    "    \n",
    "    marker = folium.Marker(\n",
    "        location = loc, \n",
    "        popup = pop, \n",
    "        icon = icon) \n",
    "\n",
    "    marker.add_to(map_nsw)\n",
    "# map_37207.save('../maps/map37207.html')\n",
    "\n",
    "#display our map\n",
    "map_nsw"
   ]
  },
  {
   "cell_type": "code",
   "execution_count": null,
   "id": "1397c1ad",
   "metadata": {},
   "outputs": [],
   "source": []
  },
  {
   "cell_type": "code",
   "execution_count": null,
   "id": "1b4fe7eb",
   "metadata": {},
   "outputs": [],
   "source": []
  },
  {
   "cell_type": "code",
   "execution_count": null,
   "id": "3908b342",
   "metadata": {},
   "outputs": [],
   "source": []
  },
  {
   "cell_type": "code",
   "execution_count": null,
   "id": "74a80239",
   "metadata": {},
   "outputs": [],
   "source": []
  },
  {
   "cell_type": "code",
   "execution_count": null,
   "id": "0d9ddb57",
   "metadata": {},
   "outputs": [],
   "source": []
  },
  {
   "cell_type": "code",
   "execution_count": null,
   "id": "5dffb359",
   "metadata": {},
   "outputs": [],
   "source": []
  }
 ],
 "metadata": {
  "kernelspec": {
   "display_name": "Python [conda env:geospatial]",
   "language": "python",
   "name": "conda-env-geospatial-py"
  },
  "language_info": {
   "codemirror_mode": {
    "name": "ipython",
    "version": 3
   },
   "file_extension": ".py",
   "mimetype": "text/x-python",
   "name": "python",
   "nbconvert_exporter": "python",
   "pygments_lexer": "ipython3",
   "version": "3.10.12"
  }
 },
 "nbformat": 4,
 "nbformat_minor": 5
}
