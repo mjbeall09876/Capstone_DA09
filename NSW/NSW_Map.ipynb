{
 "cells": [
  {
   "cell_type": "code",
   "execution_count": 1,
   "id": "e65ac493",
   "metadata": {},
   "outputs": [],
   "source": [
    "from shapely.geometry import Point\n",
    "import pandas as pd\n",
    "import geopandas as gpd\n",
    "import matplotlib.pyplot as plt\n",
    "import folium\n",
    "from folium.plugins import MarkerCluster\n",
    "from folium.plugins import FastMarkerCluster"
   ]
  },
  {
   "cell_type": "code",
   "execution_count": 2,
   "id": "2750a991",
   "metadata": {},
   "outputs": [],
   "source": [
    "# pip install openpyxl"
   ]
  },
  {
   "cell_type": "code",
   "execution_count": 3,
   "id": "1451c733",
   "metadata": {},
   "outputs": [
    {
     "name": "stdout",
     "output_type": "stream",
     "text": [
      "(2255, 12)\n"
     ]
    },
    {
     "data": {
      "text/html": [
       "<div>\n",
       "<style scoped>\n",
       "    .dataframe tbody tr th:only-of-type {\n",
       "        vertical-align: middle;\n",
       "    }\n",
       "\n",
       "    .dataframe tbody tr th {\n",
       "        vertical-align: top;\n",
       "    }\n",
       "\n",
       "    .dataframe thead th {\n",
       "        text-align: right;\n",
       "    }\n",
       "</style>\n",
       "<table border=\"1\" class=\"dataframe\">\n",
       "  <thead>\n",
       "    <tr style=\"text-align: right;\">\n",
       "      <th></th>\n",
       "      <th>Site2</th>\n",
       "      <th>Site_distance</th>\n",
       "      <th>Community</th>\n",
       "      <th>Latitude</th>\n",
       "      <th>Longitude</th>\n",
       "      <th>Easting</th>\n",
       "      <th>Northing</th>\n",
       "      <th>Zone</th>\n",
       "      <th>Datum</th>\n",
       "      <th>Location name</th>\n",
       "      <th>Tenure</th>\n",
       "      <th>Date sampled</th>\n",
       "    </tr>\n",
       "  </thead>\n",
       "  <tbody>\n",
       "    <tr>\n",
       "      <th>0</th>\n",
       "      <td>CYP_001</td>\n",
       "      <td>CYP_001_000</td>\n",
       "      <td>Cypress pine</td>\n",
       "      <td>-32.314901</td>\n",
       "      <td>145.820500</td>\n",
       "      <td>6424048</td>\n",
       "      <td>388969</td>\n",
       "      <td>55</td>\n",
       "      <td>MGA94</td>\n",
       "      <td>Bedooba State Conservation Area</td>\n",
       "      <td>National Park</td>\n",
       "      <td>2013-09-11</td>\n",
       "    </tr>\n",
       "    <tr>\n",
       "      <th>1</th>\n",
       "      <td>CYP_001</td>\n",
       "      <td>CYP_001_050</td>\n",
       "      <td>Cypress pine</td>\n",
       "      <td>-32.314476</td>\n",
       "      <td>145.820346</td>\n",
       "      <td>6424095</td>\n",
       "      <td>388954</td>\n",
       "      <td>55</td>\n",
       "      <td>MGA94</td>\n",
       "      <td>Bedooba State Conservation Area</td>\n",
       "      <td>National Park</td>\n",
       "      <td>2013-09-11</td>\n",
       "    </tr>\n",
       "    <tr>\n",
       "      <th>2</th>\n",
       "      <td>CYP_001</td>\n",
       "      <td>CYP_001_100</td>\n",
       "      <td>Cypress pine</td>\n",
       "      <td>-32.314051</td>\n",
       "      <td>145.820182</td>\n",
       "      <td>6424142</td>\n",
       "      <td>388938</td>\n",
       "      <td>55</td>\n",
       "      <td>MGA94</td>\n",
       "      <td>Bedooba State Conservation Area</td>\n",
       "      <td>National Park</td>\n",
       "      <td>2013-09-11</td>\n",
       "    </tr>\n",
       "  </tbody>\n",
       "</table>\n",
       "</div>"
      ],
      "text/plain": [
       "     Site2 Site_distance     Community   Latitude   Longitude  Easting  \\\n",
       "0  CYP_001   CYP_001_000  Cypress pine -32.314901  145.820500  6424048   \n",
       "1  CYP_001   CYP_001_050  Cypress pine -32.314476  145.820346  6424095   \n",
       "2  CYP_001   CYP_001_100  Cypress pine -32.314051  145.820182  6424142   \n",
       "\n",
       "   Northing  Zone  Datum                    Location name         Tenure  \\\n",
       "0    388969    55  MGA94  Bedooba State Conservation Area  National Park   \n",
       "1    388954    55  MGA94  Bedooba State Conservation Area  National Park   \n",
       "2    388938    55  MGA94  Bedooba State Conservation Area  National Park   \n",
       "\n",
       "  Date sampled  \n",
       "0   2013-09-11  \n",
       "1   2013-09-11  \n",
       "2   2013-09-11  "
      ]
     },
     "execution_count": 3,
     "metadata": {},
     "output_type": "execute_result"
    }
   ],
   "source": [
    "nswmap = pd.read_excel('../data/nsw-site-location-and-details.xlsx')\n",
    "print(nswmap.shape)\n",
    "nswmap.head(3)"
   ]
  },
  {
   "cell_type": "code",
   "execution_count": 4,
   "id": "a6d7b894",
   "metadata": {},
   "outputs": [
    {
     "name": "stdout",
     "output_type": "stream",
     "text": [
      "<class 'pandas.core.frame.DataFrame'>\n",
      "RangeIndex: 2255 entries, 0 to 2254\n",
      "Data columns (total 12 columns):\n",
      " #   Column         Non-Null Count  Dtype         \n",
      "---  ------         --------------  -----         \n",
      " 0   Site2          2255 non-null   object        \n",
      " 1   Site_distance  2255 non-null   object        \n",
      " 2   Community      2255 non-null   object        \n",
      " 3   Latitude       2255 non-null   float64       \n",
      " 4   Longitude      2255 non-null   float64       \n",
      " 5   Easting        2255 non-null   int64         \n",
      " 6   Northing       2255 non-null   int64         \n",
      " 7   Zone           2255 non-null   int64         \n",
      " 8   Datum          2255 non-null   object        \n",
      " 9   Location name  2255 non-null   object        \n",
      " 10  Tenure         2255 non-null   object        \n",
      " 11  Date sampled   2255 non-null   datetime64[ns]\n",
      "dtypes: datetime64[ns](1), float64(2), int64(3), object(6)\n",
      "memory usage: 211.5+ KB\n"
     ]
    }
   ],
   "source": [
    "nswmap.info()"
   ]
  },
  {
   "cell_type": "code",
   "execution_count": 5,
   "id": "f1ce174a",
   "metadata": {},
   "outputs": [
    {
     "data": {
      "text/html": [
       "<div>\n",
       "<style scoped>\n",
       "    .dataframe tbody tr th:only-of-type {\n",
       "        vertical-align: middle;\n",
       "    }\n",
       "\n",
       "    .dataframe tbody tr th {\n",
       "        vertical-align: top;\n",
       "    }\n",
       "\n",
       "    .dataframe thead th {\n",
       "        text-align: right;\n",
       "    }\n",
       "</style>\n",
       "<table border=\"1\" class=\"dataframe\">\n",
       "  <thead>\n",
       "    <tr style=\"text-align: right;\">\n",
       "      <th></th>\n",
       "      <th>Site2</th>\n",
       "      <th>Site_distance</th>\n",
       "      <th>Community</th>\n",
       "      <th>Latitude</th>\n",
       "      <th>Longitude</th>\n",
       "      <th>Easting</th>\n",
       "      <th>Northing</th>\n",
       "      <th>Zone</th>\n",
       "      <th>Datum</th>\n",
       "      <th>Location name</th>\n",
       "      <th>Tenure</th>\n",
       "      <th>Date sampled</th>\n",
       "      <th>geometry</th>\n",
       "    </tr>\n",
       "  </thead>\n",
       "  <tbody>\n",
       "    <tr>\n",
       "      <th>0</th>\n",
       "      <td>CYP_001</td>\n",
       "      <td>CYP_001_000</td>\n",
       "      <td>Cypress pine</td>\n",
       "      <td>-32.314901</td>\n",
       "      <td>145.820500</td>\n",
       "      <td>6424048</td>\n",
       "      <td>388969</td>\n",
       "      <td>55</td>\n",
       "      <td>MGA94</td>\n",
       "      <td>Bedooba State Conservation Area</td>\n",
       "      <td>National Park</td>\n",
       "      <td>2013-09-11</td>\n",
       "      <td>POINT (145.820500115668 -32.3149014417796)</td>\n",
       "    </tr>\n",
       "    <tr>\n",
       "      <th>1</th>\n",
       "      <td>CYP_001</td>\n",
       "      <td>CYP_001_050</td>\n",
       "      <td>Cypress pine</td>\n",
       "      <td>-32.314476</td>\n",
       "      <td>145.820346</td>\n",
       "      <td>6424095</td>\n",
       "      <td>388954</td>\n",
       "      <td>55</td>\n",
       "      <td>MGA94</td>\n",
       "      <td>Bedooba State Conservation Area</td>\n",
       "      <td>National Park</td>\n",
       "      <td>2013-09-11</td>\n",
       "      <td>POINT (145.820346292351 -32.3144760386447)</td>\n",
       "    </tr>\n",
       "    <tr>\n",
       "      <th>2</th>\n",
       "      <td>CYP_001</td>\n",
       "      <td>CYP_001_100</td>\n",
       "      <td>Cypress pine</td>\n",
       "      <td>-32.314051</td>\n",
       "      <td>145.820182</td>\n",
       "      <td>6424142</td>\n",
       "      <td>388938</td>\n",
       "      <td>55</td>\n",
       "      <td>MGA94</td>\n",
       "      <td>Bedooba State Conservation Area</td>\n",
       "      <td>National Park</td>\n",
       "      <td>2013-09-11</td>\n",
       "      <td>POINT (145.820181849289 -32.3140505360327)</td>\n",
       "    </tr>\n",
       "  </tbody>\n",
       "</table>\n",
       "</div>"
      ],
      "text/plain": [
       "     Site2 Site_distance     Community   Latitude   Longitude  Easting  \\\n",
       "0  CYP_001   CYP_001_000  Cypress pine -32.314901  145.820500  6424048   \n",
       "1  CYP_001   CYP_001_050  Cypress pine -32.314476  145.820346  6424095   \n",
       "2  CYP_001   CYP_001_100  Cypress pine -32.314051  145.820182  6424142   \n",
       "\n",
       "   Northing  Zone  Datum                    Location name         Tenure  \\\n",
       "0    388969    55  MGA94  Bedooba State Conservation Area  National Park   \n",
       "1    388954    55  MGA94  Bedooba State Conservation Area  National Park   \n",
       "2    388938    55  MGA94  Bedooba State Conservation Area  National Park   \n",
       "\n",
       "  Date sampled                                    geometry  \n",
       "0   2013-09-11  POINT (145.820500115668 -32.3149014417796)  \n",
       "1   2013-09-11  POINT (145.820346292351 -32.3144760386447)  \n",
       "2   2013-09-11  POINT (145.820181849289 -32.3140505360327)  "
      ]
     },
     "execution_count": 5,
     "metadata": {},
     "output_type": "execute_result"
    }
   ],
   "source": [
    "nswmap['geometry'] = nswmap.apply(lambda x: Point((x.Longitude, \n",
    "                                                         x.Latitude)), \n",
    "                                        axis=1)\n",
    "nswmap.head(3)"
   ]
  },
  {
   "cell_type": "code",
   "execution_count": 6,
   "id": "452d9720",
   "metadata": {},
   "outputs": [],
   "source": [
    "nswmap = gpd.GeoDataFrame(nswmap, \n",
    "                           crs = 'EPSG:4326', \n",
    "                           geometry = nswmap['geometry'])"
   ]
  },
  {
   "cell_type": "code",
   "execution_count": 7,
   "id": "cc9a92be",
   "metadata": {},
   "outputs": [
    {
     "data": {
      "text/plain": [
       "<Geographic 2D CRS: EPSG:4326>\n",
       "Name: WGS 84\n",
       "Axis Info [ellipsoidal]:\n",
       "- Lat[north]: Geodetic latitude (degree)\n",
       "- Lon[east]: Geodetic longitude (degree)\n",
       "Area of Use:\n",
       "- name: World.\n",
       "- bounds: (-180.0, -90.0, 180.0, 90.0)\n",
       "Datum: World Geodetic System 1984 ensemble\n",
       "- Ellipsoid: WGS 84\n",
       "- Prime Meridian: Greenwich"
      ]
     },
     "execution_count": 7,
     "metadata": {},
     "output_type": "execute_result"
    }
   ],
   "source": [
    "nswmap.crs"
   ]
  },
  {
   "cell_type": "code",
   "execution_count": 8,
   "id": "b5b09455",
   "metadata": {},
   "outputs": [
    {
     "data": {
      "text/plain": [
       "geopandas.geodataframe.GeoDataFrame"
      ]
     },
     "execution_count": 8,
     "metadata": {},
     "output_type": "execute_result"
    }
   ],
   "source": [
    "type(nswmap)"
   ]
  },
  {
   "cell_type": "code",
   "execution_count": 9,
   "id": "abc33038",
   "metadata": {},
   "outputs": [
    {
     "data": {
      "text/plain": [
       "<Axes: >"
      ]
     },
     "execution_count": 9,
     "metadata": {},
     "output_type": "execute_result"
    },
    {
     "data": {
      "image/png": "[encoded data removed]",
      "text/plain": [
       "<Figure size 640x480 with 1 Axes>"
      ]
     },
     "metadata": {},
     "output_type": "display_data"
    }
   ],
   "source": [
    "nswmap.plot()"
   ]
  },
  {
   "cell_type": "code",
   "execution_count": 10,
   "id": "ab5691c5",
   "metadata": {},
   "outputs": [
    {
     "data": {
      "text/plain": [
       "<Axes: >"
      ]
     },
     "execution_count": 10,
     "metadata": {},
     "output_type": "execute_result"
    },
    {
     "data": {
      "image/png": "[encoded data removed]",
      "text/plain": [
       "<Figure size 640x480 with 1 Axes>"
      ]
     },
     "metadata": {},
     "output_type": "display_data"
    }
   ],
   "source": [
    "geodata = gpd.read_file('../data/STE_2021_AUST_GDA2020.shp')\n",
    "nsw = geodata[geodata['STE_NAME21']== 'New South Wales']\n",
    "nsw.plot()"
   ]
  },
  {
   "cell_type": "code",
   "execution_count": 11,
   "id": "52840302",
   "metadata": {},
   "outputs": [],
   "source": [
    "nsw.crs = nswmap.crs"
   ]
  },
  {
   "cell_type": "code",
   "execution_count": 12,
   "id": "09c7a2b0",
   "metadata": {},
   "outputs": [
    {
     "data": {
      "text/plain": [
       "<Geographic 2D CRS: EPSG:4326>\n",
       "Name: WGS 84\n",
       "Axis Info [ellipsoidal]:\n",
       "- Lat[north]: Geodetic latitude (degree)\n",
       "- Lon[east]: Geodetic longitude (degree)\n",
       "Area of Use:\n",
       "- name: World.\n",
       "- bounds: (-180.0, -90.0, 180.0, 90.0)\n",
       "Datum: World Geodetic System 1984 ensemble\n",
       "- Ellipsoid: WGS 84\n",
       "- Prime Meridian: Greenwich"
      ]
     },
     "execution_count": 12,
     "metadata": {},
     "output_type": "execute_result"
    }
   ],
   "source": [
    "nsw.crs"
   ]
  },
  {
   "cell_type": "code",
   "execution_count": 13,
   "id": "16cad780",
   "metadata": {},
   "outputs": [
    {
     "data": {
      "text/plain": [
       "<Axes: >"
      ]
     },
     "execution_count": 13,
     "metadata": {},
     "output_type": "execute_result"
    },
    {
     "data": {
      "image/png": "[encoded data removed]",
      "text/plain": [
       "<Figure size 640x480 with 1 Axes>"
      ]
     },
     "metadata": {},
     "output_type": "display_data"
    }
   ],
   "source": [
    "nsw.plot()"
   ]
  },
  {
   "cell_type": "code",
   "execution_count": 14,
   "id": "759fd1fb",
   "metadata": {},
   "outputs": [
    {
     "data": {
      "text/html": [
       "<div>\n",
       "<style scoped>\n",
       "    .dataframe tbody tr th:only-of-type {\n",
       "        vertical-align: middle;\n",
       "    }\n",
       "\n",
       "    .dataframe tbody tr th {\n",
       "        vertical-align: top;\n",
       "    }\n",
       "\n",
       "    .dataframe thead th {\n",
       "        text-align: right;\n",
       "    }\n",
       "</style>\n",
       "<table border=\"1\" class=\"dataframe\">\n",
       "  <thead>\n",
       "    <tr style=\"text-align: right;\">\n",
       "      <th></th>\n",
       "      <th>Site2</th>\n",
       "      <th>Site_distance</th>\n",
       "      <th>Community</th>\n",
       "      <th>Latitude</th>\n",
       "      <th>Longitude</th>\n",
       "      <th>Easting</th>\n",
       "      <th>Northing</th>\n",
       "      <th>Zone</th>\n",
       "      <th>Datum</th>\n",
       "      <th>Location name</th>\n",
       "      <th>Tenure</th>\n",
       "      <th>Date sampled</th>\n",
       "      <th>geometry</th>\n",
       "    </tr>\n",
       "  </thead>\n",
       "  <tbody>\n",
       "    <tr>\n",
       "      <th>0</th>\n",
       "      <td>CYP_001</td>\n",
       "      <td>CYP_001_000</td>\n",
       "      <td>Cypress pine</td>\n",
       "      <td>-32.314901</td>\n",
       "      <td>145.820500</td>\n",
       "      <td>6424048</td>\n",
       "      <td>388969</td>\n",
       "      <td>55</td>\n",
       "      <td>MGA94</td>\n",
       "      <td>Bedooba State Conservation Area</td>\n",
       "      <td>National Park</td>\n",
       "      <td>2013-09-11</td>\n",
       "      <td>POINT (145.82050 -32.31490)</td>\n",
       "    </tr>\n",
       "    <tr>\n",
       "      <th>1</th>\n",
       "      <td>CYP_001</td>\n",
       "      <td>CYP_001_050</td>\n",
       "      <td>Cypress pine</td>\n",
       "      <td>-32.314476</td>\n",
       "      <td>145.820346</td>\n",
       "      <td>6424095</td>\n",
       "      <td>388954</td>\n",
       "      <td>55</td>\n",
       "      <td>MGA94</td>\n",
       "      <td>Bedooba State Conservation Area</td>\n",
       "      <td>National Park</td>\n",
       "      <td>2013-09-11</td>\n",
       "      <td>POINT (145.82035 -32.31448)</td>\n",
       "    </tr>\n",
       "    <tr>\n",
       "      <th>2</th>\n",
       "      <td>CYP_001</td>\n",
       "      <td>CYP_001_100</td>\n",
       "      <td>Cypress pine</td>\n",
       "      <td>-32.314051</td>\n",
       "      <td>145.820182</td>\n",
       "      <td>6424142</td>\n",
       "      <td>388938</td>\n",
       "      <td>55</td>\n",
       "      <td>MGA94</td>\n",
       "      <td>Bedooba State Conservation Area</td>\n",
       "      <td>National Park</td>\n",
       "      <td>2013-09-11</td>\n",
       "      <td>POINT (145.82018 -32.31405)</td>\n",
       "    </tr>\n",
       "    <tr>\n",
       "      <th>3</th>\n",
       "      <td>CYP_001</td>\n",
       "      <td>CYP_001_150</td>\n",
       "      <td>Cypress pine</td>\n",
       "      <td>-32.313625</td>\n",
       "      <td>145.819986</td>\n",
       "      <td>6424189</td>\n",
       "      <td>388919</td>\n",
       "      <td>55</td>\n",
       "      <td>MGA94</td>\n",
       "      <td>Bedooba State Conservation Area</td>\n",
       "      <td>National Park</td>\n",
       "      <td>2013-09-11</td>\n",
       "      <td>POINT (145.81999 -32.31362)</td>\n",
       "    </tr>\n",
       "    <tr>\n",
       "      <th>4</th>\n",
       "      <td>CYP_001</td>\n",
       "      <td>CYP_001_200</td>\n",
       "      <td>Cypress pine</td>\n",
       "      <td>-32.313208</td>\n",
       "      <td>145.819800</td>\n",
       "      <td>6424235</td>\n",
       "      <td>388901</td>\n",
       "      <td>55</td>\n",
       "      <td>MGA94</td>\n",
       "      <td>Bedooba State Conservation Area</td>\n",
       "      <td>National Park</td>\n",
       "      <td>2013-09-11</td>\n",
       "      <td>POINT (145.81980 -32.31321)</td>\n",
       "    </tr>\n",
       "  </tbody>\n",
       "</table>\n",
       "</div>"
      ],
      "text/plain": [
       "     Site2 Site_distance     Community   Latitude   Longitude  Easting  \\\n",
       "0  CYP_001   CYP_001_000  Cypress pine -32.314901  145.820500  6424048   \n",
       "1  CYP_001   CYP_001_050  Cypress pine -32.314476  145.820346  6424095   \n",
       "2  CYP_001   CYP_001_100  Cypress pine -32.314051  145.820182  6424142   \n",
       "3  CYP_001   CYP_001_150  Cypress pine -32.313625  145.819986  6424189   \n",
       "4  CYP_001   CYP_001_200  Cypress pine -32.313208  145.819800  6424235   \n",
       "\n",
       "   Northing  Zone  Datum                    Location name         Tenure  \\\n",
       "0    388969    55  MGA94  Bedooba State Conservation Area  National Park   \n",
       "1    388954    55  MGA94  Bedooba State Conservation Area  National Park   \n",
       "2    388938    55  MGA94  Bedooba State Conservation Area  National Park   \n",
       "3    388919    55  MGA94  Bedooba State Conservation Area  National Park   \n",
       "4    388901    55  MGA94  Bedooba State Conservation Area  National Park   \n",
       "\n",
       "  Date sampled                     geometry  \n",
       "0   2013-09-11  POINT (145.82050 -32.31490)  \n",
       "1   2013-09-11  POINT (145.82035 -32.31448)  \n",
       "2   2013-09-11  POINT (145.82018 -32.31405)  \n",
       "3   2013-09-11  POINT (145.81999 -32.31362)  \n",
       "4   2013-09-11  POINT (145.81980 -32.31321)  "
      ]
     },
     "execution_count": 14,
     "metadata": {},
     "output_type": "execute_result"
    }
   ],
   "source": [
    "nswmap.head()"
   ]
  },
  {
   "cell_type": "code",
   "execution_count": 15,
   "id": "0be41455",
   "metadata": {},
   "outputs": [
    {
     "data": {
      "text/plain": [
       "geopandas.geodataframe.GeoDataFrame"
      ]
     },
     "execution_count": 15,
     "metadata": {},
     "output_type": "execute_result"
    }
   ],
   "source": [
    "type(nsw)"
   ]
  },
  {
   "cell_type": "code",
   "execution_count": 16,
   "id": "8c13514b",
   "metadata": {},
   "outputs": [],
   "source": [
    "nsw_map = gpd.sjoin(nsw, nswmap, predicate = 'within')"
   ]
  },
  {
   "cell_type": "code",
   "execution_count": 17,
   "id": "fea44f59",
   "metadata": {},
   "outputs": [
    {
     "data": {
      "text/plain": [
       "(1, 9)"
      ]
     },
     "execution_count": 17,
     "metadata": {},
     "output_type": "execute_result"
    }
   ],
   "source": [
    "border = nsw.loc[nsw['STE_NAME21'] == 'New South Wales']\n",
    "border.shape"
   ]
  },
  {
   "cell_type": "code",
   "execution_count": 18,
   "id": "acf842d4",
   "metadata": {},
   "outputs": [
    {
     "data": {
      "image/png": "[encoded data removed]",
      "text/plain": [
       "<Figure size 800x1000 with 1 Axes>"
      ]
     },
     "metadata": {},
     "output_type": "display_data"
    }
   ],
   "source": [
    "ax = border.plot(figsize = (8, 10), color = 'lightgreen')\n",
    "nswmap.plot( ax = ax, column = 'Community');\n",
    "plt.show();"
   ]
  },
  {
   "cell_type": "code",
   "execution_count": null,
   "id": "500e93b7",
   "metadata": {},
   "outputs": [],
   "source": []
  },
  {
   "cell_type": "code",
   "execution_count": 19,
   "id": "d161db59",
   "metadata": {},
   "outputs": [
    {
     "name": "stderr",
     "output_type": "stream",
     "text": [
      "C:\\Users\\HP\\AppData\\Local\\Temp\\ipykernel_19448\\1165773.py:1: UserWarning: Geometry is in a geographic CRS. Results from 'centroid' are likely incorrect. Use 'GeoSeries.to_crs()' to re-project geometries to a projected CRS before this operation.\n",
      "\n",
      "  border.geometry.centroid\n"
     ]
    },
    {
     "data": {
      "text/plain": [
       "0    POINT (147.00820 -32.16562)\n",
       "dtype: geometry"
      ]
     },
     "execution_count": 19,
     "metadata": {},
     "output_type": "execute_result"
    }
   ],
   "source": [
    "border.geometry.centroid"
   ]
  },
  {
   "cell_type": "code",
   "execution_count": 20,
   "id": "3dbf03a7",
   "metadata": {},
   "outputs": [
    {
     "name": "stderr",
     "output_type": "stream",
     "text": [
      "C:\\Users\\HP\\AppData\\Local\\Temp\\ipykernel_19448\\4157547962.py:1: UserWarning: Geometry is in a geographic CRS. Results from 'centroid' are likely incorrect. Use 'GeoSeries.to_crs()' to re-project geometries to a projected CRS before this operation.\n",
      "\n",
      "  center = border.geometry.centroid[0]\n"
     ]
    }
   ],
   "source": [
    "center = border.geometry.centroid[0]"
   ]
  },
  {
   "cell_type": "code",
   "execution_count": 21,
   "id": "3a186d68",
   "metadata": {},
   "outputs": [
    {
     "name": "stdout",
     "output_type": "stream",
     "text": [
      "POINT (147.00819583947575 -32.16561978542047)\n"
     ]
    }
   ],
   "source": [
    "print(center)"
   ]
  },
  {
   "cell_type": "code",
   "execution_count": null,
   "id": "17feb117",
   "metadata": {},
   "outputs": [],
   "source": []
  },
  {
   "cell_type": "code",
   "execution_count": null,
   "id": "c4d7f950",
   "metadata": {},
   "outputs": [],
   "source": []
  },
  {
   "cell_type": "markdown",
   "id": "8e424f8d",
   "metadata": {},
   "source": [
    "## Folium requires a location point as an array with latitude first\n",
    "but shapely Points have longitude first"
   ]
  },
  {
   "cell_type": "code",
   "execution_count": 24,
   "id": "6803e2f9",
   "metadata": {},
   "outputs": [
    {
     "data": {
      "text/plain": [
       "-32.16561978542047"
      ]
     },
     "execution_count": 24,
     "metadata": {},
     "output_type": "execute_result"
    }
   ],
   "source": [
    "center.y"
   ]
  },
  {
   "cell_type": "code",
   "execution_count": 25,
   "id": "8d79c493",
   "metadata": {},
   "outputs": [
    {
     "name": "stdout",
     "output_type": "stream",
     "text": [
      "[-32.16561978542047, 147.00819583947575]\n"
     ]
    }
   ],
   "source": [
    "# reverse the order when constructing the array for folium location\n",
    "area_center = [center.y, center.x]\n",
    "\n",
    "# check the order of area_center, the location for our folium map\n",
    "print(area_center)"
   ]
  },
  {
   "cell_type": "markdown",
   "id": "2bc01eed",
   "metadata": {},
   "source": [
    "To create a folium map just call the folium Map() constructor\n",
    "location is the only argument required by the constructor\n",
    "Set area_center as the location of the folium map.\n",
    "zoom_start is an optional argument\n",
    "A setting of 12 should get us nice and close"
   ]
  },
  {
   "cell_type": "code",
   "execution_count": 26,
   "id": "77ee3ce3",
   "metadata": {},
   "outputs": [
    {
     "data": {
      "text/html": [
       "<div style=\"width:100%;\"><div style=\"position:relative;width:100%;height:0;padding-bottom:60%;\"><span style=\"color:#565656\">Make this Notebook Trusted to load map: File -> Trust Notebook</span><iframe srcdoc=\"&lt;!DOCTYPE html&gt;\n",
       "&lt;html&gt;\n",
       "&lt;head&gt;\n",
       "    \n",
       "    &lt;meta http-equiv=&quot;content-type&quot; content=&quot;text/html; charset=UTF-8&quot; /&gt;\n",
       "    \n",
       "        &lt;script&gt;\n",
       "            L_NO_TOUCH = false;\n",
       "            L_DISABLE_3D = false;\n",
       "        &lt;/script&gt;\n",
       "    \n",
       "    &lt;style&gt;html, body {width: 100%;height: 100%;margin: 0;padding: 0;}&lt;/style&gt;\n",
       "    &lt;style&gt;#map {position:absolute;top:0;bottom:0;right:0;left:0;}&lt;/style&gt;\n",
       "    &lt;script src=&quot;https://cdn.jsdelivr.net/npm/leaflet@1.9.3/dist/leaflet.js&quot;&gt;&lt;/script&gt;\n",
       "    &lt;script src=&quot;https://code.jquery.com/jquery-1.12.4.min.js&quot;&gt;&lt;/script&gt;\n",
       "    &lt;script src=&quot;https://cdn.jsdelivr.net/npm/bootstrap@5.2.2/dist/js/bootstrap.bundle.min.js&quot;&gt;&lt;/script&gt;\n",
       "    &lt;script src=&quot;https://cdnjs.cloudflare.com/ajax/libs/Leaflet.awesome-markers/2.0.2/leaflet.awesome-markers.js&quot;&gt;&lt;/script&gt;\n",
       "    &lt;link rel=&quot;stylesheet&quot; href=&quot;https://cdn.jsdelivr.net/npm/leaflet@1.9.3/dist/leaflet.css&quot;/&gt;\n",
       "    &lt;link rel=&quot;stylesheet&quot; href=&quot;https://cdn.jsdelivr.net/npm/bootstrap@5.2.2/dist/css/bootstrap.min.css&quot;/&gt;\n",
       "    &lt;link rel=&quot;stylesheet&quot; href=&quot;https://netdna.bootstrapcdn.com/bootstrap/3.0.0/css/bootstrap.min.css&quot;/&gt;\n",
       "    &lt;link rel=&quot;stylesheet&quot; href=&quot;https://cdn.jsdelivr.net/npm/@fortawesome/fontawesome-free@6.2.0/css/all.min.css&quot;/&gt;\n",
       "    &lt;link rel=&quot;stylesheet&quot; href=&quot;https://cdnjs.cloudflare.com/ajax/libs/Leaflet.awesome-markers/2.0.2/leaflet.awesome-markers.css&quot;/&gt;\n",
       "    &lt;link rel=&quot;stylesheet&quot; href=&quot;https://cdn.jsdelivr.net/gh/python-visualization/folium/folium/templates/leaflet.awesome.rotate.min.css&quot;/&gt;\n",
       "    \n",
       "            &lt;meta name=&quot;viewport&quot; content=&quot;width=device-width,\n",
       "                initial-scale=1.0, maximum-scale=1.0, user-scalable=no&quot; /&gt;\n",
       "            &lt;style&gt;\n",
       "                #map_be8c86b2bfb22b917be79f5027e83cf7 {\n",
       "                    position: relative;\n",
       "                    width: 100.0%;\n",
       "                    height: 100.0%;\n",
       "                    left: 0.0%;\n",
       "                    top: 0.0%;\n",
       "                }\n",
       "                .leaflet-container { font-size: 1rem; }\n",
       "            &lt;/style&gt;\n",
       "        \n",
       "&lt;/head&gt;\n",
       "&lt;body&gt;\n",
       "    \n",
       "    \n",
       "            &lt;div class=&quot;folium-map&quot; id=&quot;map_be8c86b2bfb22b917be79f5027e83cf7&quot; &gt;&lt;/div&gt;\n",
       "        \n",
       "&lt;/body&gt;\n",
       "&lt;script&gt;\n",
       "    \n",
       "    \n",
       "            var map_be8c86b2bfb22b917be79f5027e83cf7 = L.map(\n",
       "                &quot;map_be8c86b2bfb22b917be79f5027e83cf7&quot;,\n",
       "                {\n",
       "                    center: [-32.16561978542047, 147.00819583947575],\n",
       "                    crs: L.CRS.EPSG3857,\n",
       "                    zoom: 10,\n",
       "                    zoomControl: true,\n",
       "                    preferCanvas: false,\n",
       "                }\n",
       "            );\n",
       "\n",
       "            \n",
       "\n",
       "        \n",
       "    \n",
       "            var tile_layer_4c7a575b3ab55ea09d6e8a62c988de09 = L.tileLayer(\n",
       "                &quot;https://{s}.tile.openstreetmap.org/{z}/{x}/{y}.png&quot;,\n",
       "                {&quot;attribution&quot;: &quot;Data by \\u0026copy; \\u003ca target=\\&quot;_blank\\&quot; href=\\&quot;http://openstreetmap.org\\&quot;\\u003eOpenStreetMap\\u003c/a\\u003e, under \\u003ca target=\\&quot;_blank\\&quot; href=\\&quot;http://www.openstreetmap.org/copyright\\&quot;\\u003eODbL\\u003c/a\\u003e.&quot;, &quot;detectRetina&quot;: false, &quot;maxNativeZoom&quot;: 18, &quot;maxZoom&quot;: 18, &quot;minZoom&quot;: 0, &quot;noWrap&quot;: false, &quot;opacity&quot;: 1, &quot;subdomains&quot;: &quot;abc&quot;, &quot;tms&quot;: false}\n",
       "            ).addTo(map_be8c86b2bfb22b917be79f5027e83cf7);\n",
       "        \n",
       "&lt;/script&gt;\n",
       "&lt;/html&gt;\" style=\"position:absolute;width:100%;height:100%;left:0;top:0;border:none !important;\" allowfullscreen webkitallowfullscreen mozallowfullscreen></iframe></div></div>"
      ],
      "text/plain": [
       "<folium.folium.Map at 0x2bf16145630>"
      ]
     },
     "execution_count": 26,
     "metadata": {},
     "output_type": "execute_result"
    }
   ],
   "source": [
    "#create our map of NSW and show it\n",
    "map_nsw = folium.Map(location =  area_center, zoom_start = 10)\n",
    "map_nsw"
   ]
  },
  {
   "cell_type": "code",
   "execution_count": null,
   "id": "6d25070b",
   "metadata": {},
   "outputs": [],
   "source": []
  },
  {
   "cell_type": "code",
   "execution_count": null,
   "id": "f82a28d2",
   "metadata": {},
   "outputs": [],
   "source": []
  },
  {
   "cell_type": "code",
   "execution_count": null,
   "id": "57cd9c3a",
   "metadata": {},
   "outputs": [],
   "source": []
  },
  {
   "cell_type": "code",
   "execution_count": null,
   "id": "2e5a16a5",
   "metadata": {},
   "outputs": [],
   "source": []
  },
  {
   "cell_type": "code",
   "execution_count": null,
   "id": "5dffb359",
   "metadata": {},
   "outputs": [],
   "source": []
  }
 ],
 "metadata": {
  "kernelspec": {
   "display_name": "Python [conda env:geospatial]",
   "language": "python",
   "name": "conda-env-geospatial-py"
  },
  "language_info": {
   "codemirror_mode": {
    "name": "ipython",
    "version": 3
   },
   "file_extension": ".py",
   "mimetype": "text/x-python",
   "name": "python",
   "nbconvert_exporter": "python",
   "pygments_lexer": "ipython3",
   "version": "3.10.12"
  }
 },
 "nbformat": 4,
 "nbformat_minor": 5
}
