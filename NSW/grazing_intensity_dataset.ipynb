{
 "cells": [
  {
   "cell_type": "code",
   "execution_count": 1,
   "id": "1f677513",
   "metadata": {},
   "outputs": [],
   "source": [
    "import pandas as pd\n",
    "import numpy as np\n",
    "import matplotlib.pyplot as plt\n",
    "import seaborn as sns"
   ]
  },
  {
   "cell_type": "code",
   "execution_count": 4,
   "id": "eadf32e0",
   "metadata": {},
   "outputs": [
    {
     "name": "stdout",
     "output_type": "stream",
     "text": [
      "(1504, 7)\n"
     ]
    },
    {
     "data": {
      "text/html": [
       "<div>\n",
       "<style scoped>\n",
       "    .dataframe tbody tr th:only-of-type {\n",
       "        vertical-align: middle;\n",
       "    }\n",
       "\n",
       "    .dataframe tbody tr th {\n",
       "        vertical-align: top;\n",
       "    }\n",
       "\n",
       "    .dataframe thead th {\n",
       "        text-align: right;\n",
       "    }\n",
       "</style>\n",
       "<table border=\"1\" class=\"dataframe\">\n",
       "  <thead>\n",
       "    <tr style=\"text-align: right;\">\n",
       "      <th></th>\n",
       "      <th>Community</th>\n",
       "      <th>Site</th>\n",
       "      <th>Belt_length(m)</th>\n",
       "      <th>Belt width (m)</th>\n",
       "      <th>Belt_area(m2)</th>\n",
       "      <th>Attribute</th>\n",
       "      <th>Count</th>\n",
       "    </tr>\n",
       "  </thead>\n",
       "  <tbody>\n",
       "    <tr>\n",
       "      <th>0</th>\n",
       "      <td>Black box</td>\n",
       "      <td>BLA_001</td>\n",
       "      <td>200</td>\n",
       "      <td>10</td>\n",
       "      <td>200</td>\n",
       "      <td>Kangaroo hip holes</td>\n",
       "      <td>5</td>\n",
       "    </tr>\n",
       "    <tr>\n",
       "      <th>1</th>\n",
       "      <td>Black box</td>\n",
       "      <td>BLA_001</td>\n",
       "      <td>200</td>\n",
       "      <td>10</td>\n",
       "      <td>200</td>\n",
       "      <td>Rabbit burrows</td>\n",
       "      <td>0</td>\n",
       "    </tr>\n",
       "    <tr>\n",
       "      <th>2</th>\n",
       "      <td>Black box</td>\n",
       "      <td>BLA_001</td>\n",
       "      <td>200</td>\n",
       "      <td>10</td>\n",
       "      <td>200</td>\n",
       "      <td>Rabbit latrines</td>\n",
       "      <td>1</td>\n",
       "    </tr>\n",
       "  </tbody>\n",
       "</table>\n",
       "</div>"
      ],
      "text/plain": [
       "   Community     Site  Belt_length(m)  Belt width (m)  Belt_area(m2)  \\\n",
       "0  Black box  BLA_001             200              10            200   \n",
       "1  Black box  BLA_001             200              10            200   \n",
       "2  Black box  BLA_001             200              10            200   \n",
       "\n",
       "            Attribute  Count  \n",
       "0  Kangaroo hip holes      5  \n",
       "1     Rabbit burrows       0  \n",
       "2     Rabbit latrines      1  "
      ]
     },
     "execution_count": 4,
     "metadata": {},
     "output_type": "execute_result"
    }
   ],
   "source": [
    "disturbance = pd.read_excel('../data/nsw-assessment-of-grazing-intensity.xlsx', sheet_name='animal_disturbance')\n",
    "print(disturbance.shape)\n",
    "disturbance.head(3)"
   ]
  },
  {
   "cell_type": "code",
   "execution_count": 5,
   "id": "853b75f8",
   "metadata": {},
   "outputs": [
    {
     "name": "stderr",
     "output_type": "stream",
     "text": [
      "C:\\Users\\HP\\AppData\\Local\\Temp\\ipykernel_4928\\1462270239.py:1: FutureWarning: The default value of numeric_only in DataFrameGroupBy.sum is deprecated. In a future version, numeric_only will default to False. Either specify numeric_only or select only columns which should be valid for the function.\n",
      "  attribute = disturbance.groupby('Attribute').sum()['Count']\n"
     ]
    },
    {
     "data": {
      "text/plain": [
       "Attribute\n",
       "Kangaroo hip holes    2157\n",
       "Rabbit burrows         634\n",
       "Rabbit latrines       1101\n",
       "Rabbit warrens         145\n",
       "Name: Count, dtype: int64"
      ]
     },
     "execution_count": 5,
     "metadata": {},
     "output_type": "execute_result"
    }
   ],
   "source": [
    "attribute = disturbance.groupby('Attribute').sum()['Count']\n",
    "attribute"
   ]
  },
  {
   "cell_type": "code",
   "execution_count": 6,
   "id": "9ef60229",
   "metadata": {},
   "outputs": [
    {
     "data": {
      "text/plain": [
       "Text(0, 0.5, 'Total Observed')"
      ]
     },
     "execution_count": 6,
     "metadata": {},
     "output_type": "execute_result"
    },
    {
     "data": {
      "image/png": "[encoded data removed]",
      "text/plain": [
       "<Figure size 640x480 with 1 Axes>"
      ]
     },
     "metadata": {},
     "output_type": "display_data"
    }
   ],
   "source": [
    "attribute.plot(kind='bar')\n",
    "plt.xticks(rotation=45)\n",
    "plt.ylabel(\"Total Observed\")"
   ]
  },
  {
   "cell_type": "code",
   "execution_count": null,
   "id": "036c5388",
   "metadata": {},
   "outputs": [],
   "source": []
  },
  {
   "cell_type": "code",
   "execution_count": 29,
   "id": "28806879",
   "metadata": {
    "scrolled": true
   },
   "outputs": [
    {
     "name": "stdout",
     "output_type": "stream",
     "text": [
      "(6019, 7)\n"
     ]
    },
    {
     "data": {
      "text/html": [
       "<div>\n",
       "<style scoped>\n",
       "    .dataframe tbody tr th:only-of-type {\n",
       "        vertical-align: middle;\n",
       "    }\n",
       "\n",
       "    .dataframe tbody tr th {\n",
       "        vertical-align: top;\n",
       "    }\n",
       "\n",
       "    .dataframe thead th {\n",
       "        text-align: right;\n",
       "    }\n",
       "</style>\n",
       "<table border=\"1\" class=\"dataframe\">\n",
       "  <thead>\n",
       "    <tr style=\"text-align: right;\">\n",
       "      <th></th>\n",
       "      <th>Community</th>\n",
       "      <th>Site1</th>\n",
       "      <th>Site</th>\n",
       "      <th>Scale</th>\n",
       "      <th>Animal</th>\n",
       "      <th>Attribute</th>\n",
       "      <th>Counts</th>\n",
       "    </tr>\n",
       "  </thead>\n",
       "  <tbody>\n",
       "    <tr>\n",
       "      <th>0</th>\n",
       "      <td>Black box</td>\n",
       "      <td>BLA_001_000</td>\n",
       "      <td>BLA_001</td>\n",
       "      <td>0.25</td>\n",
       "      <td>Kangaroo</td>\n",
       "      <td>dung</td>\n",
       "      <td>1</td>\n",
       "    </tr>\n",
       "    <tr>\n",
       "      <th>1</th>\n",
       "      <td>Black box</td>\n",
       "      <td>BLA_001_000</td>\n",
       "      <td>BLA_001</td>\n",
       "      <td>25.00</td>\n",
       "      <td>Cow</td>\n",
       "      <td>dung</td>\n",
       "      <td>28</td>\n",
       "    </tr>\n",
       "    <tr>\n",
       "      <th>2</th>\n",
       "      <td>Black box</td>\n",
       "      <td>BLA_001_000</td>\n",
       "      <td>BLA_001</td>\n",
       "      <td>25.00</td>\n",
       "      <td>Kangaroo</td>\n",
       "      <td>dung</td>\n",
       "      <td>10</td>\n",
       "    </tr>\n",
       "  </tbody>\n",
       "</table>\n",
       "</div>"
      ],
      "text/plain": [
       "   Community        Site1     Site  Scale    Animal Attribute  Counts\n",
       "0  Black box  BLA_001_000  BLA_001   0.25  Kangaroo      dung       1\n",
       "1  Black box  BLA_001_000  BLA_001  25.00       Cow      dung      28\n",
       "2  Black box  BLA_001_000  BLA_001  25.00  Kangaroo      dung      10"
      ]
     },
     "execution_count": 29,
     "metadata": {},
     "output_type": "execute_result"
    }
   ],
   "source": [
    "dung = pd.read_excel('../data/nsw-assessment-of-grazing-intensity.xlsx', sheet_name='animal_dung')\n",
    "print(dung.shape)\n",
    "dung.head(3)"
   ]
  },
  {
   "cell_type": "code",
   "execution_count": 33,
   "id": "d8134d4f",
   "metadata": {},
   "outputs": [
    {
     "data": {
      "text/plain": [
       "Attribute\n",
       "Kangaroo hip holes    2157\n",
       "Rabbit burrows         634\n",
       "Rabbit latrines       1101\n",
       "Rabbit warrens         145\n",
       "Name: Count, dtype: int64"
      ]
     },
     "execution_count": 33,
     "metadata": {},
     "output_type": "execute_result"
    }
   ],
   "source": [
    "dung = dung.groupby('Attribute').sum()\n",
    "dung"
   ]
  },
  {
   "cell_type": "code",
   "execution_count": null,
   "id": "32689a26",
   "metadata": {},
   "outputs": [],
   "source": []
  },
  {
   "cell_type": "code",
   "execution_count": null,
   "id": "b5fede79",
   "metadata": {},
   "outputs": [],
   "source": []
  },
  {
   "cell_type": "code",
   "execution_count": 25,
   "id": "87847f2a",
   "metadata": {
    "scrolled": true
   },
   "outputs": [
    {
     "data": {
      "text/html": [
       "<div>\n",
       "<style scoped>\n",
       "    .dataframe tbody tr th:only-of-type {\n",
       "        vertical-align: middle;\n",
       "    }\n",
       "\n",
       "    .dataframe tbody tr th {\n",
       "        vertical-align: top;\n",
       "    }\n",
       "\n",
       "    .dataframe thead th {\n",
       "        text-align: right;\n",
       "    }\n",
       "</style>\n",
       "<table border=\"1\" class=\"dataframe\">\n",
       "  <thead>\n",
       "    <tr style=\"text-align: right;\">\n",
       "      <th>Attribute</th>\n",
       "      <th>digs</th>\n",
       "      <th>dung</th>\n",
       "      <th>pugging</th>\n",
       "      <th>All</th>\n",
       "    </tr>\n",
       "    <tr>\n",
       "      <th>Animal</th>\n",
       "      <th></th>\n",
       "      <th></th>\n",
       "      <th></th>\n",
       "      <th></th>\n",
       "    </tr>\n",
       "  </thead>\n",
       "  <tbody>\n",
       "    <tr>\n",
       "      <th>Cow</th>\n",
       "      <td>NaN</td>\n",
       "      <td>4634.0</td>\n",
       "      <td>8452.0</td>\n",
       "      <td>13086</td>\n",
       "    </tr>\n",
       "    <tr>\n",
       "      <th>Kangaroo</th>\n",
       "      <td>NaN</td>\n",
       "      <td>105541.0</td>\n",
       "      <td>NaN</td>\n",
       "      <td>105541</td>\n",
       "    </tr>\n",
       "    <tr>\n",
       "      <th>Rabbit</th>\n",
       "      <td>2979.0</td>\n",
       "      <td>131629.0</td>\n",
       "      <td>NaN</td>\n",
       "      <td>134608</td>\n",
       "    </tr>\n",
       "    <tr>\n",
       "      <th>Sheep</th>\n",
       "      <td>NaN</td>\n",
       "      <td>44980.0</td>\n",
       "      <td>NaN</td>\n",
       "      <td>44980</td>\n",
       "    </tr>\n",
       "    <tr>\n",
       "      <th>All</th>\n",
       "      <td>2979.0</td>\n",
       "      <td>286784.0</td>\n",
       "      <td>8452.0</td>\n",
       "      <td>298215</td>\n",
       "    </tr>\n",
       "  </tbody>\n",
       "</table>\n",
       "</div>"
      ],
      "text/plain": [
       "Attribute    digs      dung  pugging     All\n",
       "Animal                                      \n",
       "Cow           NaN    4634.0   8452.0   13086\n",
       "Kangaroo      NaN  105541.0      NaN  105541\n",
       "Rabbit     2979.0  131629.0      NaN  134608\n",
       "Sheep         NaN   44980.0      NaN   44980\n",
       "All        2979.0  286784.0   8452.0  298215"
      ]
     },
     "execution_count": 25,
     "metadata": {},
     "output_type": "execute_result"
    }
   ],
   "source": [
    "pivot = pd.pivot_table(dung,\n",
    "                       values='Counts',\n",
    "                       index='Animal',\n",
    "                       columns=['Attribute'],\n",
    "                       aggfunc='sum',\n",
    "                       margins=True)\n",
    "pivot"
   ]
  },
  {
   "cell_type": "code",
   "execution_count": 26,
   "id": "b212194c",
   "metadata": {},
   "outputs": [
    {
     "data": {
      "text/plain": [
       "<matplotlib.legend.Legend at 0x25bb97219d0>"
      ]
     },
     "execution_count": 26,
     "metadata": {},
     "output_type": "execute_result"
    },
    {
     "data": {
      "image/png": "[encoded data removed]",
      "text/plain": [
       "<Figure size 640x480 with 1 Axes>"
      ]
     },
     "metadata": {},
     "output_type": "display_data"
    }
   ],
   "source": [
    "sns.lineplot(data=pivot.iloc[:-1],palette='colorblind') #iloc[:-1] causes the \"All\" row to not be graphed\n",
    "plt.legend(bbox_to_anchor=(1.05, 1.0), loc='upper left')"
   ]
  },
  {
   "cell_type": "code",
   "execution_count": null,
   "id": "7175fb9c",
   "metadata": {},
   "outputs": [],
   "source": []
  },
  {
   "cell_type": "code",
   "execution_count": 10,
   "id": "6b133f8e",
   "metadata": {},
   "outputs": [
    {
     "data": {
      "text/html": [
       "<div>\n",
       "<style scoped>\n",
       "    .dataframe tbody tr th:only-of-type {\n",
       "        vertical-align: middle;\n",
       "    }\n",
       "\n",
       "    .dataframe tbody tr th {\n",
       "        vertical-align: top;\n",
       "    }\n",
       "\n",
       "    .dataframe thead th {\n",
       "        text-align: right;\n",
       "    }\n",
       "</style>\n",
       "<table border=\"1\" class=\"dataframe\">\n",
       "  <thead>\n",
       "    <tr style=\"text-align: right;\">\n",
       "      <th></th>\n",
       "      <th>Community</th>\n",
       "      <th>Site1</th>\n",
       "      <th>Site</th>\n",
       "      <th>Scale</th>\n",
       "      <th>Animal</th>\n",
       "      <th>Attribute</th>\n",
       "      <th>Counts</th>\n",
       "    </tr>\n",
       "  </thead>\n",
       "  <tbody>\n",
       "    <tr>\n",
       "      <th>6</th>\n",
       "      <td>Black box</td>\n",
       "      <td>BLA_001_050</td>\n",
       "      <td>BLA_001</td>\n",
       "      <td>25.0</td>\n",
       "      <td>Cow</td>\n",
       "      <td>pugging</td>\n",
       "      <td>14</td>\n",
       "    </tr>\n",
       "    <tr>\n",
       "      <th>13</th>\n",
       "      <td>Black box</td>\n",
       "      <td>BLA_001_200</td>\n",
       "      <td>BLA_001</td>\n",
       "      <td>25.0</td>\n",
       "      <td>Cow</td>\n",
       "      <td>pugging</td>\n",
       "      <td>70</td>\n",
       "    </tr>\n",
       "    <tr>\n",
       "      <th>17</th>\n",
       "      <td>Black box</td>\n",
       "      <td>BLA_002_000</td>\n",
       "      <td>BLA_002</td>\n",
       "      <td>25.0</td>\n",
       "      <td>Cow</td>\n",
       "      <td>pugging</td>\n",
       "      <td>4</td>\n",
       "    </tr>\n",
       "    <tr>\n",
       "      <th>22</th>\n",
       "      <td>Black box</td>\n",
       "      <td>BLA_002_050</td>\n",
       "      <td>BLA_002</td>\n",
       "      <td>25.0</td>\n",
       "      <td>Cow</td>\n",
       "      <td>pugging</td>\n",
       "      <td>8</td>\n",
       "    </tr>\n",
       "    <tr>\n",
       "      <th>26</th>\n",
       "      <td>Black box</td>\n",
       "      <td>BLA_002_100</td>\n",
       "      <td>BLA_002</td>\n",
       "      <td>25.0</td>\n",
       "      <td>Cow</td>\n",
       "      <td>pugging</td>\n",
       "      <td>3</td>\n",
       "    </tr>\n",
       "  </tbody>\n",
       "</table>\n",
       "</div>"
      ],
      "text/plain": [
       "    Community        Site1     Site  Scale Animal Attribute  Counts\n",
       "6   Black box  BLA_001_050  BLA_001   25.0    Cow   pugging      14\n",
       "13  Black box  BLA_001_200  BLA_001   25.0    Cow   pugging      70\n",
       "17  Black box  BLA_002_000  BLA_002   25.0    Cow   pugging       4\n",
       "22  Black box  BLA_002_050  BLA_002   25.0    Cow   pugging       8\n",
       "26  Black box  BLA_002_100  BLA_002   25.0    Cow   pugging       3"
      ]
     },
     "execution_count": 10,
     "metadata": {},
     "output_type": "execute_result"
    }
   ],
   "source": [
    "pug = dung[dung['Attribute'].notna()]\n",
    "\n",
    "# keep only pug counts\n",
    "pug = dung[dung['Attribute'].str.contains('pug')]\n",
    "\n",
    "pug.head()"
   ]
  },
  {
   "cell_type": "code",
   "execution_count": null,
   "id": "61ebf996",
   "metadata": {},
   "outputs": [],
   "source": []
  },
  {
   "cell_type": "code",
   "execution_count": 11,
   "id": "d2f1dff3",
   "metadata": {},
   "outputs": [
    {
     "data": {
      "text/html": [
       "<div>\n",
       "<style scoped>\n",
       "    .dataframe tbody tr th:only-of-type {\n",
       "        vertical-align: middle;\n",
       "    }\n",
       "\n",
       "    .dataframe tbody tr th {\n",
       "        vertical-align: top;\n",
       "    }\n",
       "\n",
       "    .dataframe thead th {\n",
       "        text-align: right;\n",
       "    }\n",
       "</style>\n",
       "<table border=\"1\" class=\"dataframe\">\n",
       "  <thead>\n",
       "    <tr style=\"text-align: right;\">\n",
       "      <th></th>\n",
       "      <th>Community</th>\n",
       "      <th>Site1</th>\n",
       "      <th>Site</th>\n",
       "      <th>Scale</th>\n",
       "      <th>Animal</th>\n",
       "      <th>Attribute</th>\n",
       "      <th>Counts</th>\n",
       "    </tr>\n",
       "  </thead>\n",
       "  <tbody>\n",
       "    <tr>\n",
       "      <th>0</th>\n",
       "      <td>Black box</td>\n",
       "      <td>BLA_001_000</td>\n",
       "      <td>BLA_001</td>\n",
       "      <td>0.25</td>\n",
       "      <td>Kangaroo</td>\n",
       "      <td>dung</td>\n",
       "      <td>1</td>\n",
       "    </tr>\n",
       "    <tr>\n",
       "      <th>1</th>\n",
       "      <td>Black box</td>\n",
       "      <td>BLA_001_000</td>\n",
       "      <td>BLA_001</td>\n",
       "      <td>25.00</td>\n",
       "      <td>Cow</td>\n",
       "      <td>dung</td>\n",
       "      <td>28</td>\n",
       "    </tr>\n",
       "    <tr>\n",
       "      <th>2</th>\n",
       "      <td>Black box</td>\n",
       "      <td>BLA_001_000</td>\n",
       "      <td>BLA_001</td>\n",
       "      <td>25.00</td>\n",
       "      <td>Kangaroo</td>\n",
       "      <td>dung</td>\n",
       "      <td>10</td>\n",
       "    </tr>\n",
       "    <tr>\n",
       "      <th>3</th>\n",
       "      <td>Black box</td>\n",
       "      <td>BLA_001_000</td>\n",
       "      <td>BLA_001</td>\n",
       "      <td>25.00</td>\n",
       "      <td>Rabbit</td>\n",
       "      <td>dung</td>\n",
       "      <td>5</td>\n",
       "    </tr>\n",
       "    <tr>\n",
       "      <th>4</th>\n",
       "      <td>Black box</td>\n",
       "      <td>BLA_001_000</td>\n",
       "      <td>BLA_001</td>\n",
       "      <td>25.00</td>\n",
       "      <td>Sheep</td>\n",
       "      <td>dung</td>\n",
       "      <td>5</td>\n",
       "    </tr>\n",
       "  </tbody>\n",
       "</table>\n",
       "</div>"
      ],
      "text/plain": [
       "   Community        Site1     Site  Scale    Animal Attribute  Counts\n",
       "0  Black box  BLA_001_000  BLA_001   0.25  Kangaroo      dung       1\n",
       "1  Black box  BLA_001_000  BLA_001  25.00       Cow      dung      28\n",
       "2  Black box  BLA_001_000  BLA_001  25.00  Kangaroo      dung      10\n",
       "3  Black box  BLA_001_000  BLA_001  25.00    Rabbit      dung       5\n",
       "4  Black box  BLA_001_000  BLA_001  25.00     Sheep      dung       5"
      ]
     },
     "execution_count": 11,
     "metadata": {},
     "output_type": "execute_result"
    }
   ],
   "source": [
    "dung1 = dung[dung['Attribute'].notna()]\n",
    "\n",
    "# keep only dung counts\n",
    "dung1 = dung[dung['Attribute'].str.contains('dung')]\n",
    "\n",
    "dung1.head()"
   ]
  },
  {
   "cell_type": "code",
   "execution_count": 12,
   "id": "582a8852",
   "metadata": {},
   "outputs": [
    {
     "data": {
      "text/html": [
       "<div>\n",
       "<style scoped>\n",
       "    .dataframe tbody tr th:only-of-type {\n",
       "        vertical-align: middle;\n",
       "    }\n",
       "\n",
       "    .dataframe tbody tr th {\n",
       "        vertical-align: top;\n",
       "    }\n",
       "\n",
       "    .dataframe thead th {\n",
       "        text-align: right;\n",
       "    }\n",
       "</style>\n",
       "<table border=\"1\" class=\"dataframe\">\n",
       "  <thead>\n",
       "    <tr style=\"text-align: right;\">\n",
       "      <th>Attribute</th>\n",
       "      <th>dung</th>\n",
       "      <th>All</th>\n",
       "    </tr>\n",
       "    <tr>\n",
       "      <th>Animal</th>\n",
       "      <th></th>\n",
       "      <th></th>\n",
       "    </tr>\n",
       "  </thead>\n",
       "  <tbody>\n",
       "    <tr>\n",
       "      <th>Cow</th>\n",
       "      <td>4634</td>\n",
       "      <td>4634</td>\n",
       "    </tr>\n",
       "    <tr>\n",
       "      <th>Kangaroo</th>\n",
       "      <td>105541</td>\n",
       "      <td>105541</td>\n",
       "    </tr>\n",
       "    <tr>\n",
       "      <th>Rabbit</th>\n",
       "      <td>131629</td>\n",
       "      <td>131629</td>\n",
       "    </tr>\n",
       "    <tr>\n",
       "      <th>Sheep</th>\n",
       "      <td>44980</td>\n",
       "      <td>44980</td>\n",
       "    </tr>\n",
       "    <tr>\n",
       "      <th>All</th>\n",
       "      <td>286784</td>\n",
       "      <td>286784</td>\n",
       "    </tr>\n",
       "  </tbody>\n",
       "</table>\n",
       "</div>"
      ],
      "text/plain": [
       "Attribute    dung     All\n",
       "Animal                   \n",
       "Cow          4634    4634\n",
       "Kangaroo   105541  105541\n",
       "Rabbit     131629  131629\n",
       "Sheep       44980   44980\n",
       "All        286784  286784"
      ]
     },
     "execution_count": 12,
     "metadata": {},
     "output_type": "execute_result"
    }
   ],
   "source": [
    "pivot1 = pd.pivot_table(dung1,\n",
    "                       values='Counts',\n",
    "                       index='Animal',\n",
    "                       columns=['Attribute'],\n",
    "                       aggfunc='sum',\n",
    "                       margins=True)\n",
    "pivot1"
   ]
  },
  {
   "cell_type": "code",
   "execution_count": null,
   "id": "74820347",
   "metadata": {},
   "outputs": [],
   "source": []
  },
  {
   "cell_type": "code",
   "execution_count": null,
   "id": "d90cf92a",
   "metadata": {},
   "outputs": [],
   "source": [
    "# for index in pivot:\n",
    "#     pivot[index] = pivot[index]/pivot['All']\n",
    "# pivot"
   ]
  },
  {
   "cell_type": "code",
   "execution_count": null,
   "id": "01eae8a5",
   "metadata": {},
   "outputs": [],
   "source": []
  },
  {
   "cell_type": "code",
   "execution_count": 17,
   "id": "ae628524",
   "metadata": {},
   "outputs": [
    {
     "data": {
      "text/plain": [
       "<matplotlib.legend.Legend at 0x25bb089fad0>"
      ]
     },
     "execution_count": 17,
     "metadata": {},
     "output_type": "execute_result"
    },
    {
     "data": {
      "image/png": "[encoded data removed]",
      "text/plain": [
       "<Figure size 640x480 with 1 Axes>"
      ]
     },
     "metadata": {},
     "output_type": "display_data"
    }
   ],
   "source": [
    "pivot1.dung1 = dung[dung['Attribute'].notna()]\n",
    "\n",
    "# keep only dung counts\n",
    "dung1 = dung[dung['Attribute'].str.contains('dung')]\n",
    "\n",
    "dung1.plot(kind='line')\n",
    "plt.legend(bbox_to_anchor=(1.05, 1.0), loc='upper left')"
   ]
  },
  {
   "cell_type": "code",
   "execution_count": null,
   "id": "c02de3d1",
   "metadata": {},
   "outputs": [],
   "source": [
    "sns.lineplot(data=pivot1.iloc[:-1].drop(columns=['All'], \n",
    "                                       axis=0), palette='colorblind') #iloc[:-1] causes the \"All\" row to not be graphed\n",
    "plt.legend(bbox_to_anchor=(1.05, 1.0), loc='upper left')"
   ]
  },
  {
   "cell_type": "code",
   "execution_count": null,
   "id": "de6d095a",
   "metadata": {},
   "outputs": [],
   "source": []
  },
  {
   "cell_type": "code",
   "execution_count": null,
   "id": "a4b605f2",
   "metadata": {},
   "outputs": [],
   "source": []
  },
  {
   "cell_type": "code",
   "execution_count": null,
   "id": "4ddd6fff",
   "metadata": {},
   "outputs": [],
   "source": [
    "dung_sum = dung.groupby('Attribute').sum()['Counts']\n",
    "dung_sum"
   ]
  },
  {
   "cell_type": "code",
   "execution_count": null,
   "id": "5712f494",
   "metadata": {},
   "outputs": [],
   "source": [
    "dung_sum.plot(kind='bar')"
   ]
  },
  {
   "cell_type": "code",
   "execution_count": null,
   "id": "d9fa7b39",
   "metadata": {},
   "outputs": [],
   "source": []
  },
  {
   "cell_type": "code",
   "execution_count": null,
   "id": "92bbebf7",
   "metadata": {},
   "outputs": [],
   "source": []
  },
  {
   "cell_type": "code",
   "execution_count": null,
   "id": "3d5821b7",
   "metadata": {},
   "outputs": [],
   "source": []
  },
  {
   "cell_type": "code",
   "execution_count": null,
   "id": "01280639",
   "metadata": {},
   "outputs": [],
   "source": []
  },
  {
   "cell_type": "code",
   "execution_count": null,
   "id": "3721a986",
   "metadata": {},
   "outputs": [],
   "source": [
    "tracks = pd.read_excel('../data/nsw-assessment-of-grazing-intensity.xlsx', sheet_name='tracks')\n",
    "print(tracks.shape)\n",
    "tracks.head(3)"
   ]
  },
  {
   "cell_type": "code",
   "execution_count": null,
   "id": "e0c207b6",
   "metadata": {},
   "outputs": [],
   "source": [
    "tracks_count = tracks['Community'].value_counts()\n",
    "tracks_count"
   ]
  },
  {
   "cell_type": "code",
   "execution_count": null,
   "id": "52f8371a",
   "metadata": {},
   "outputs": [],
   "source": [
    "tracks_count.plot(kind='bar')\n",
    "# plt.legend(bbox_to_anchor=(1.05, 1.0), loc='upper left')"
   ]
  },
  {
   "cell_type": "code",
   "execution_count": null,
   "id": "2714178c",
   "metadata": {},
   "outputs": [],
   "source": [
    "tracks_count = tracks['Animal'].value_counts()\n",
    "tracks_count"
   ]
  },
  {
   "cell_type": "markdown",
   "id": "1faa37fa",
   "metadata": {},
   "source": [
    "tracks_count.plot(kind='bar')"
   ]
  },
  {
   "cell_type": "code",
   "execution_count": null,
   "id": "9cc45304",
   "metadata": {},
   "outputs": [],
   "source": [
    "area = tracks['Track_area_cm2'].value_counts()\n",
    "area"
   ]
  },
  {
   "cell_type": "markdown",
   "id": "993cb181",
   "metadata": {},
   "source": [
    "## Do I want to keep using this dataset? Let's keep exploring other values I can measure in this dataset"
   ]
  },
  {
   "cell_type": "code",
   "execution_count": null,
   "id": "57976cbf",
   "metadata": {
    "scrolled": true
   },
   "outputs": [],
   "source": [
    "tracks.head(3)"
   ]
  },
  {
   "cell_type": "code",
   "execution_count": null,
   "id": "f73ec224",
   "metadata": {},
   "outputs": [],
   "source": []
  },
  {
   "cell_type": "code",
   "execution_count": null,
   "id": "bb12df77",
   "metadata": {},
   "outputs": [],
   "source": []
  },
  {
   "cell_type": "code",
   "execution_count": null,
   "id": "87d39317",
   "metadata": {},
   "outputs": [],
   "source": []
  },
  {
   "cell_type": "code",
   "execution_count": null,
   "id": "d36f4069",
   "metadata": {},
   "outputs": [],
   "source": []
  },
  {
   "cell_type": "code",
   "execution_count": null,
   "id": "4f44248f",
   "metadata": {},
   "outputs": [],
   "source": []
  },
  {
   "cell_type": "code",
   "execution_count": null,
   "id": "f2326490",
   "metadata": {},
   "outputs": [],
   "source": []
  },
  {
   "cell_type": "code",
   "execution_count": null,
   "id": "afe074ea",
   "metadata": {},
   "outputs": [],
   "source": []
  },
  {
   "cell_type": "code",
   "execution_count": null,
   "id": "78d1b430",
   "metadata": {},
   "outputs": [],
   "source": []
  }
 ],
 "metadata": {
  "kernelspec": {
   "display_name": "Python 3 (ipykernel)",
   "language": "python",
   "name": "python3"
  },
  "language_info": {
   "codemirror_mode": {
    "name": "ipython",
    "version": 3
   },
   "file_extension": ".py",
   "mimetype": "text/x-python",
   "name": "python",
   "nbconvert_exporter": "python",
   "pygments_lexer": "ipython3",
   "version": "3.11.3"
  }
 },
 "nbformat": 4,
 "nbformat_minor": 5
}
