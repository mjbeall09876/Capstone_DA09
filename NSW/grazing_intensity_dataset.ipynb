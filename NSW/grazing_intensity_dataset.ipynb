{
 "cells": [
  {
   "cell_type": "code",
   "execution_count": 1,
   "id": "1f677513",
   "metadata": {},
   "outputs": [],
   "source": [
    "import pandas as pd\n",
    "import numpy as np\n",
    "import matplotlib.pyplot as plt\n",
    "import seaborn as sns"
   ]
  },
  {
   "cell_type": "code",
   "execution_count": 4,
   "id": "eadf32e0",
   "metadata": {},
   "outputs": [
    {
     "name": "stdout",
     "output_type": "stream",
     "text": [
      "(1504, 7)\n"
     ]
    },
    {
     "data": {
      "text/html": [
       "<div>\n",
       "<style scoped>\n",
       "    .dataframe tbody tr th:only-of-type {\n",
       "        vertical-align: middle;\n",
       "    }\n",
       "\n",
       "    .dataframe tbody tr th {\n",
       "        vertical-align: top;\n",
       "    }\n",
       "\n",
       "    .dataframe thead th {\n",
       "        text-align: right;\n",
       "    }\n",
       "</style>\n",
       "<table border=\"1\" class=\"dataframe\">\n",
       "  <thead>\n",
       "    <tr style=\"text-align: right;\">\n",
       "      <th></th>\n",
       "      <th>Community</th>\n",
       "      <th>Site</th>\n",
       "      <th>Belt_length(m)</th>\n",
       "      <th>Belt width (m)</th>\n",
       "      <th>Belt_area(m2)</th>\n",
       "      <th>Attribute</th>\n",
       "      <th>Count</th>\n",
       "    </tr>\n",
       "  </thead>\n",
       "  <tbody>\n",
       "    <tr>\n",
       "      <th>0</th>\n",
       "      <td>Black box</td>\n",
       "      <td>BLA_001</td>\n",
       "      <td>200</td>\n",
       "      <td>10</td>\n",
       "      <td>200</td>\n",
       "      <td>Kangaroo hip holes</td>\n",
       "      <td>5</td>\n",
       "    </tr>\n",
       "    <tr>\n",
       "      <th>1</th>\n",
       "      <td>Black box</td>\n",
       "      <td>BLA_001</td>\n",
       "      <td>200</td>\n",
       "      <td>10</td>\n",
       "      <td>200</td>\n",
       "      <td>Rabbit burrows</td>\n",
       "      <td>0</td>\n",
       "    </tr>\n",
       "    <tr>\n",
       "      <th>2</th>\n",
       "      <td>Black box</td>\n",
       "      <td>BLA_001</td>\n",
       "      <td>200</td>\n",
       "      <td>10</td>\n",
       "      <td>200</td>\n",
       "      <td>Rabbit latrines</td>\n",
       "      <td>1</td>\n",
       "    </tr>\n",
       "  </tbody>\n",
       "</table>\n",
       "</div>"
      ],
      "text/plain": [
       "   Community     Site  Belt_length(m)  Belt width (m)  Belt_area(m2)  \\\n",
       "0  Black box  BLA_001             200              10            200   \n",
       "1  Black box  BLA_001             200              10            200   \n",
       "2  Black box  BLA_001             200              10            200   \n",
       "\n",
       "            Attribute  Count  \n",
       "0  Kangaroo hip holes      5  \n",
       "1     Rabbit burrows       0  \n",
       "2     Rabbit latrines      1  "
      ]
     },
     "execution_count": 4,
     "metadata": {},
     "output_type": "execute_result"
    }
   ],
   "source": [
    "disturbance = pd.read_excel('../data/nsw-assessment-of-grazing-intensity.xlsx', sheet_name='animal disturbance')\n",
    "print(disturbance.shape)\n",
    "disturbance.head(3)"
   ]
  },
  {
   "cell_type": "code",
   "execution_count": 5,
   "id": "28806879",
   "metadata": {},
   "outputs": [
    {
     "name": "stdout",
     "output_type": "stream",
     "text": [
      "(6019, 7)\n"
     ]
    },
    {
     "data": {
      "text/html": [
       "<div>\n",
       "<style scoped>\n",
       "    .dataframe tbody tr th:only-of-type {\n",
       "        vertical-align: middle;\n",
       "    }\n",
       "\n",
       "    .dataframe tbody tr th {\n",
       "        vertical-align: top;\n",
       "    }\n",
       "\n",
       "    .dataframe thead th {\n",
       "        text-align: right;\n",
       "    }\n",
       "</style>\n",
       "<table border=\"1\" class=\"dataframe\">\n",
       "  <thead>\n",
       "    <tr style=\"text-align: right;\">\n",
       "      <th></th>\n",
       "      <th>Community</th>\n",
       "      <th>Site</th>\n",
       "      <th>Site.1</th>\n",
       "      <th>Scale</th>\n",
       "      <th>Animal</th>\n",
       "      <th>Attribute</th>\n",
       "      <th>Counts</th>\n",
       "    </tr>\n",
       "  </thead>\n",
       "  <tbody>\n",
       "    <tr>\n",
       "      <th>0</th>\n",
       "      <td>Black box</td>\n",
       "      <td>BLA_001_000</td>\n",
       "      <td>BLA_001</td>\n",
       "      <td>0.25</td>\n",
       "      <td>Kangaroo</td>\n",
       "      <td>dung</td>\n",
       "      <td>1</td>\n",
       "    </tr>\n",
       "    <tr>\n",
       "      <th>1</th>\n",
       "      <td>Black box</td>\n",
       "      <td>BLA_001_000</td>\n",
       "      <td>BLA_001</td>\n",
       "      <td>25.00</td>\n",
       "      <td>Cow</td>\n",
       "      <td>dung</td>\n",
       "      <td>28</td>\n",
       "    </tr>\n",
       "    <tr>\n",
       "      <th>2</th>\n",
       "      <td>Black box</td>\n",
       "      <td>BLA_001_000</td>\n",
       "      <td>BLA_001</td>\n",
       "      <td>25.00</td>\n",
       "      <td>Kangaroo</td>\n",
       "      <td>dung</td>\n",
       "      <td>10</td>\n",
       "    </tr>\n",
       "  </tbody>\n",
       "</table>\n",
       "</div>"
      ],
      "text/plain": [
       "   Community         Site   Site.1  Scale    Animal Attribute  Counts\n",
       "0  Black box  BLA_001_000  BLA_001   0.25  Kangaroo      dung       1\n",
       "1  Black box  BLA_001_000  BLA_001  25.00       Cow      dung      28\n",
       "2  Black box  BLA_001_000  BLA_001  25.00  Kangaroo      dung      10"
      ]
     },
     "execution_count": 5,
     "metadata": {},
     "output_type": "execute_result"
    }
   ],
   "source": [
    "dung = pd.read_excel('../data/nsw-assessment-of-grazing-intensity.xlsx', sheet_name='animal dung')\n",
    "print(dung.shape)\n",
    "dung.head(3)"
   ]
  },
  {
   "cell_type": "code",
   "execution_count": 6,
   "id": "3721a986",
   "metadata": {},
   "outputs": [
    {
     "name": "stdout",
     "output_type": "stream",
     "text": [
      "(1568, 7)\n"
     ]
    },
    {
     "data": {
      "text/html": [
       "<div>\n",
       "<style scoped>\n",
       "    .dataframe tbody tr th:only-of-type {\n",
       "        vertical-align: middle;\n",
       "    }\n",
       "\n",
       "    .dataframe tbody tr th {\n",
       "        vertical-align: top;\n",
       "    }\n",
       "\n",
       "    .dataframe thead th {\n",
       "        text-align: right;\n",
       "    }\n",
       "</style>\n",
       "<table border=\"1\" class=\"dataframe\">\n",
       "  <thead>\n",
       "    <tr style=\"text-align: right;\">\n",
       "      <th></th>\n",
       "      <th>Community</th>\n",
       "      <th>Site</th>\n",
       "      <th>Belt_length_m</th>\n",
       "      <th>Animal</th>\n",
       "      <th>Track_width_cm</th>\n",
       "      <th>Track_depth_cm</th>\n",
       "      <th>Track_area_cm2</th>\n",
       "    </tr>\n",
       "  </thead>\n",
       "  <tbody>\n",
       "    <tr>\n",
       "      <th>0</th>\n",
       "      <td>Cypress pine</td>\n",
       "      <td>CYP_002</td>\n",
       "      <td>200</td>\n",
       "      <td>Livestock</td>\n",
       "      <td>30</td>\n",
       "      <td>1.0</td>\n",
       "      <td>30.0</td>\n",
       "    </tr>\n",
       "    <tr>\n",
       "      <th>1</th>\n",
       "      <td>Cypress pine</td>\n",
       "      <td>CYP_002</td>\n",
       "      <td>200</td>\n",
       "      <td>Livestock</td>\n",
       "      <td>60</td>\n",
       "      <td>1.0</td>\n",
       "      <td>60.0</td>\n",
       "    </tr>\n",
       "    <tr>\n",
       "      <th>2</th>\n",
       "      <td>Cypress pine</td>\n",
       "      <td>CYP_004</td>\n",
       "      <td>200</td>\n",
       "      <td>Livestock</td>\n",
       "      <td>45</td>\n",
       "      <td>1.0</td>\n",
       "      <td>45.0</td>\n",
       "    </tr>\n",
       "  </tbody>\n",
       "</table>\n",
       "</div>"
      ],
      "text/plain": [
       "      Community    Site   Belt_length_m     Animal  Track_width_cm  \\\n",
       "0  Cypress pine  CYP_002            200  Livestock              30   \n",
       "1  Cypress pine  CYP_002            200  Livestock              60   \n",
       "2  Cypress pine  CYP_004            200  Livestock              45   \n",
       "\n",
       "   Track_depth_cm  Track_area_cm2  \n",
       "0             1.0            30.0  \n",
       "1             1.0            60.0  \n",
       "2             1.0            45.0  "
      ]
     },
     "execution_count": 6,
     "metadata": {},
     "output_type": "execute_result"
    }
   ],
   "source": [
    "tracks = pd.read_excel('../data/nsw-assessment-of-grazing-intensity.xlsx', sheet_name='tracks')\n",
    "print(tracks.shape)\n",
    "tracks.head(3)"
   ]
  },
  {
   "cell_type": "code",
   "execution_count": null,
   "id": "52f8371a",
   "metadata": {},
   "outputs": [],
   "source": []
  },
  {
   "cell_type": "code",
   "execution_count": null,
   "id": "57976cbf",
   "metadata": {},
   "outputs": [],
   "source": []
  },
  {
   "cell_type": "code",
   "execution_count": null,
   "id": "f73ec224",
   "metadata": {},
   "outputs": [],
   "source": []
  }
 ],
 "metadata": {
  "kernelspec": {
   "display_name": "Python 3 (ipykernel)",
   "language": "python",
   "name": "python3"
  },
  "language_info": {
   "codemirror_mode": {
    "name": "ipython",
    "version": 3
   },
   "file_extension": ".py",
   "mimetype": "text/x-python",
   "name": "python",
   "nbconvert_exporter": "python",
   "pygments_lexer": "ipython3",
   "version": "3.11.3"
  }
 },
 "nbformat": 4,
 "nbformat_minor": 5
}
